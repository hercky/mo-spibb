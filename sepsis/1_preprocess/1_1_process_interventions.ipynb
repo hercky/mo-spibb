{
 "cells": [
  {
   "cell_type": "code",
   "execution_count": 1,
   "metadata": {},
   "outputs": [],
   "source": [
    "# This notebook takes the input dataset, finds quartiles for the medical interventions (IV in, max vaso in)\n",
    "# for each block.\n",
    "# We then discretise actions in the original dataset according to what bin they fall in, and then save \n",
    "# a new dataframe with the discretised actions.\n",
    "\n",
    "# Source: https://github.com/MLD3/RL-Set-Valued-Policy/tree/master/mimic-sepsis/mimic_sepsis_rl/1_preprocess"
   ]
  },
  {
   "cell_type": "code",
   "execution_count": 1,
   "metadata": {},
   "outputs": [],
   "source": [
    "%matplotlib inline"
   ]
  },
  {
   "cell_type": "code",
   "execution_count": 2,
   "metadata": {},
   "outputs": [],
   "source": [
    "import numpy as np\n",
    "import pandas as pd\n",
    "import matplotlib.pyplot as plt\n",
    "from tqdm import tqdm"
   ]
  },
  {
   "cell_type": "code",
   "execution_count": 3,
   "metadata": {},
   "outputs": [],
   "source": [
    "from pandas import DataFrame"
   ]
  },
  {
   "cell_type": "markdown",
   "metadata": {},
   "source": [
    "## Continue processing"
   ]
  },
  {
   "cell_type": "code",
   "execution_count": 4,
   "metadata": {},
   "outputs": [],
   "source": [
    "orig_data_full = pd.read_csv(\"path/to/MIMICtable.csv\")"
   ]
  },
  {
   "cell_type": "code",
   "execution_count": 5,
   "metadata": {},
   "outputs": [],
   "source": [
    "df_cohort = pd.read_csv('path/to/sepsis_mimiciii.csv')"
   ]
  },
  {
   "cell_type": "code",
   "execution_count": 6,
   "metadata": {},
   "outputs": [],
   "source": [
    "icustays = df_cohort['icustayid'].unique() - 200000"
   ]
  },
  {
   "cell_type": "code",
   "execution_count": 7,
   "metadata": {},
   "outputs": [],
   "source": [
    "orig_data = orig_data_full[orig_data_full['icustayid'].isin(icustays)]"
   ]
  },
  {
   "cell_type": "code",
   "execution_count": 8,
   "metadata": {},
   "outputs": [
    {
     "data": {
      "text/plain": [
       "20954"
      ]
     },
     "execution_count": 8,
     "metadata": {},
     "output_type": "execute_result"
    }
   ],
   "source": [
    "orig_data['icustayid'].nunique()"
   ]
  },
  {
   "cell_type": "code",
   "execution_count": 9,
   "metadata": {},
   "outputs": [
    {
     "data": {
      "text/html": [
       "<div>\n",
       "<style scoped>\n",
       "    .dataframe tbody tr th:only-of-type {\n",
       "        vertical-align: middle;\n",
       "    }\n",
       "\n",
       "    .dataframe tbody tr th {\n",
       "        vertical-align: top;\n",
       "    }\n",
       "\n",
       "    .dataframe thead th {\n",
       "        text-align: right;\n",
       "    }\n",
       "</style>\n",
       "<table border=\"1\" class=\"dataframe\">\n",
       "  <thead>\n",
       "    <tr style=\"text-align: right;\">\n",
       "      <th></th>\n",
       "      <th>bloc</th>\n",
       "      <th>icustayid</th>\n",
       "      <th>charttime</th>\n",
       "      <th>gender</th>\n",
       "      <th>age</th>\n",
       "      <th>elixhauser</th>\n",
       "      <th>re_admission</th>\n",
       "      <th>died_in_hosp</th>\n",
       "      <th>died_within_48h_of_out_time</th>\n",
       "      <th>mortality_90d</th>\n",
       "      <th>...</th>\n",
       "      <th>PaO2_FiO2</th>\n",
       "      <th>median_dose_vaso</th>\n",
       "      <th>max_dose_vaso</th>\n",
       "      <th>input_total</th>\n",
       "      <th>input_4hourly</th>\n",
       "      <th>output_total</th>\n",
       "      <th>output_4hourly</th>\n",
       "      <th>cumulated_balance</th>\n",
       "      <th>SOFA</th>\n",
       "      <th>SIRS</th>\n",
       "    </tr>\n",
       "  </thead>\n",
       "  <tbody>\n",
       "    <tr>\n",
       "      <th>0</th>\n",
       "      <td>1</td>\n",
       "      <td>3</td>\n",
       "      <td>7245486000</td>\n",
       "      <td>0</td>\n",
       "      <td>17639.826435</td>\n",
       "      <td>0</td>\n",
       "      <td>0</td>\n",
       "      <td>0</td>\n",
       "      <td>0</td>\n",
       "      <td>1</td>\n",
       "      <td>...</td>\n",
       "      <td>279.999989</td>\n",
       "      <td>0.0</td>\n",
       "      <td>0.0</td>\n",
       "      <td>6527.0</td>\n",
       "      <td>50.0</td>\n",
       "      <td>13617.0</td>\n",
       "      <td>520.0</td>\n",
       "      <td>-7090.0</td>\n",
       "      <td>4</td>\n",
       "      <td>1</td>\n",
       "    </tr>\n",
       "    <tr>\n",
       "      <th>1</th>\n",
       "      <td>2</td>\n",
       "      <td>3</td>\n",
       "      <td>7245500400</td>\n",
       "      <td>0</td>\n",
       "      <td>17639.826435</td>\n",
       "      <td>0</td>\n",
       "      <td>0</td>\n",
       "      <td>0</td>\n",
       "      <td>0</td>\n",
       "      <td>1</td>\n",
       "      <td>...</td>\n",
       "      <td>168.000000</td>\n",
       "      <td>0.0</td>\n",
       "      <td>0.0</td>\n",
       "      <td>6577.0</td>\n",
       "      <td>50.0</td>\n",
       "      <td>13982.0</td>\n",
       "      <td>365.0</td>\n",
       "      <td>-7405.0</td>\n",
       "      <td>6</td>\n",
       "      <td>2</td>\n",
       "    </tr>\n",
       "    <tr>\n",
       "      <th>2</th>\n",
       "      <td>3</td>\n",
       "      <td>3</td>\n",
       "      <td>7245514800</td>\n",
       "      <td>0</td>\n",
       "      <td>17639.826435</td>\n",
       "      <td>0</td>\n",
       "      <td>0</td>\n",
       "      <td>0</td>\n",
       "      <td>0</td>\n",
       "      <td>1</td>\n",
       "      <td>...</td>\n",
       "      <td>279.999989</td>\n",
       "      <td>0.0</td>\n",
       "      <td>0.0</td>\n",
       "      <td>6627.0</td>\n",
       "      <td>50.0</td>\n",
       "      <td>14262.0</td>\n",
       "      <td>280.0</td>\n",
       "      <td>-7635.0</td>\n",
       "      <td>5</td>\n",
       "      <td>2</td>\n",
       "    </tr>\n",
       "    <tr>\n",
       "      <th>3</th>\n",
       "      <td>4</td>\n",
       "      <td>3</td>\n",
       "      <td>7245529200</td>\n",
       "      <td>0</td>\n",
       "      <td>17639.826435</td>\n",
       "      <td>0</td>\n",
       "      <td>0</td>\n",
       "      <td>0</td>\n",
       "      <td>0</td>\n",
       "      <td>1</td>\n",
       "      <td>...</td>\n",
       "      <td>279.999989</td>\n",
       "      <td>0.0</td>\n",
       "      <td>0.0</td>\n",
       "      <td>6677.0</td>\n",
       "      <td>50.0</td>\n",
       "      <td>14602.0</td>\n",
       "      <td>340.0</td>\n",
       "      <td>-7925.0</td>\n",
       "      <td>5</td>\n",
       "      <td>1</td>\n",
       "    </tr>\n",
       "    <tr>\n",
       "      <th>4</th>\n",
       "      <td>5</td>\n",
       "      <td>3</td>\n",
       "      <td>7245543600</td>\n",
       "      <td>0</td>\n",
       "      <td>17639.826435</td>\n",
       "      <td>0</td>\n",
       "      <td>0</td>\n",
       "      <td>0</td>\n",
       "      <td>0</td>\n",
       "      <td>1</td>\n",
       "      <td>...</td>\n",
       "      <td>279.999989</td>\n",
       "      <td>0.0</td>\n",
       "      <td>0.0</td>\n",
       "      <td>6727.0</td>\n",
       "      <td>50.0</td>\n",
       "      <td>15142.0</td>\n",
       "      <td>540.0</td>\n",
       "      <td>-8415.0</td>\n",
       "      <td>5</td>\n",
       "      <td>2</td>\n",
       "    </tr>\n",
       "  </tbody>\n",
       "</table>\n",
       "<p>5 rows × 59 columns</p>\n",
       "</div>"
      ],
      "text/plain": [
       "   bloc  icustayid   charttime  gender           age  elixhauser  \\\n",
       "0     1          3  7245486000       0  17639.826435           0   \n",
       "1     2          3  7245500400       0  17639.826435           0   \n",
       "2     3          3  7245514800       0  17639.826435           0   \n",
       "3     4          3  7245529200       0  17639.826435           0   \n",
       "4     5          3  7245543600       0  17639.826435           0   \n",
       "\n",
       "   re_admission  died_in_hosp  died_within_48h_of_out_time  mortality_90d  \\\n",
       "0             0             0                            0              1   \n",
       "1             0             0                            0              1   \n",
       "2             0             0                            0              1   \n",
       "3             0             0                            0              1   \n",
       "4             0             0                            0              1   \n",
       "\n",
       "   ...   PaO2_FiO2  median_dose_vaso  max_dose_vaso  input_total  \\\n",
       "0  ...  279.999989               0.0            0.0       6527.0   \n",
       "1  ...  168.000000               0.0            0.0       6577.0   \n",
       "2  ...  279.999989               0.0            0.0       6627.0   \n",
       "3  ...  279.999989               0.0            0.0       6677.0   \n",
       "4  ...  279.999989               0.0            0.0       6727.0   \n",
       "\n",
       "   input_4hourly  output_total  output_4hourly  cumulated_balance  SOFA  SIRS  \n",
       "0           50.0       13617.0           520.0            -7090.0     4     1  \n",
       "1           50.0       13982.0           365.0            -7405.0     6     2  \n",
       "2           50.0       14262.0           280.0            -7635.0     5     2  \n",
       "3           50.0       14602.0           340.0            -7925.0     5     1  \n",
       "4           50.0       15142.0           540.0            -8415.0     5     2  \n",
       "\n",
       "[5 rows x 59 columns]"
      ]
     },
     "execution_count": 9,
     "metadata": {},
     "output_type": "execute_result"
    }
   ],
   "source": [
    "orig_data.head()"
   ]
  },
  {
   "cell_type": "code",
   "execution_count": 10,
   "metadata": {},
   "outputs": [],
   "source": [
    "df_icustays = orig_data.drop_duplicates('icustayid', keep='last').copy()[[\n",
    "    'bloc', 'icustayid', 'charttime', 'gender', 'age', 'elixhauser',\n",
    "       're_admission', 'died_in_hosp', 'died_within_48h_of_out_time',\n",
    "       'mortality_90d', 'delay_end_of_record_and_discharge_or_death',\n",
    "]]"
   ]
  },
  {
   "cell_type": "code",
   "execution_count": 11,
   "metadata": {},
   "outputs": [],
   "source": [
    "df_icustays['age'] = df_icustays['age'] / 365.25\n",
    "df_icustays['los'] = df_icustays['bloc'] * 4"
   ]
  },
  {
   "cell_type": "code",
   "execution_count": 12,
   "metadata": {},
   "outputs": [
    {
     "data": {
      "text/html": [
       "<div>\n",
       "<style scoped>\n",
       "    .dataframe tbody tr th:only-of-type {\n",
       "        vertical-align: middle;\n",
       "    }\n",
       "\n",
       "    .dataframe tbody tr th {\n",
       "        vertical-align: top;\n",
       "    }\n",
       "\n",
       "    .dataframe thead th {\n",
       "        text-align: right;\n",
       "    }\n",
       "</style>\n",
       "<table border=\"1\" class=\"dataframe\">\n",
       "  <thead>\n",
       "    <tr style=\"text-align: right;\">\n",
       "      <th></th>\n",
       "      <th>bloc</th>\n",
       "      <th>icustayid</th>\n",
       "      <th>charttime</th>\n",
       "      <th>gender</th>\n",
       "      <th>age</th>\n",
       "      <th>elixhauser</th>\n",
       "      <th>re_admission</th>\n",
       "      <th>died_in_hosp</th>\n",
       "      <th>died_within_48h_of_out_time</th>\n",
       "      <th>mortality_90d</th>\n",
       "      <th>delay_end_of_record_and_discharge_or_death</th>\n",
       "      <th>los</th>\n",
       "    </tr>\n",
       "  </thead>\n",
       "  <tbody>\n",
       "    <tr>\n",
       "      <th>6</th>\n",
       "      <td>9</td>\n",
       "      <td>3</td>\n",
       "      <td>7245601200</td>\n",
       "      <td>0</td>\n",
       "      <td>48.295213</td>\n",
       "      <td>0</td>\n",
       "      <td>0</td>\n",
       "      <td>0</td>\n",
       "      <td>0</td>\n",
       "      <td>1</td>\n",
       "      <td>326.666667</td>\n",
       "      <td>36</td>\n",
       "    </tr>\n",
       "    <tr>\n",
       "      <th>18</th>\n",
       "      <td>12</td>\n",
       "      <td>11</td>\n",
       "      <td>6898399800</td>\n",
       "      <td>1</td>\n",
       "      <td>84.232906</td>\n",
       "      <td>6</td>\n",
       "      <td>1</td>\n",
       "      <td>0</td>\n",
       "      <td>0</td>\n",
       "      <td>0</td>\n",
       "      <td>0.800000</td>\n",
       "      <td>48</td>\n",
       "    </tr>\n",
       "    <tr>\n",
       "      <th>22</th>\n",
       "      <td>4</td>\n",
       "      <td>12</td>\n",
       "      <td>5805775200</td>\n",
       "      <td>1</td>\n",
       "      <td>32.988959</td>\n",
       "      <td>0</td>\n",
       "      <td>0</td>\n",
       "      <td>0</td>\n",
       "      <td>0</td>\n",
       "      <td>0</td>\n",
       "      <td>0.416667</td>\n",
       "      <td>16</td>\n",
       "    </tr>\n",
       "    <tr>\n",
       "      <th>32</th>\n",
       "      <td>10</td>\n",
       "      <td>14</td>\n",
       "      <td>4264398900</td>\n",
       "      <td>0</td>\n",
       "      <td>84.728186</td>\n",
       "      <td>2</td>\n",
       "      <td>0</td>\n",
       "      <td>0</td>\n",
       "      <td>0</td>\n",
       "      <td>1</td>\n",
       "      <td>70.766667</td>\n",
       "      <td>40</td>\n",
       "    </tr>\n",
       "    <tr>\n",
       "      <th>52</th>\n",
       "      <td>20</td>\n",
       "      <td>30</td>\n",
       "      <td>5708098800</td>\n",
       "      <td>0</td>\n",
       "      <td>54.191893</td>\n",
       "      <td>6</td>\n",
       "      <td>0</td>\n",
       "      <td>0</td>\n",
       "      <td>0</td>\n",
       "      <td>0</td>\n",
       "      <td>372.916667</td>\n",
       "      <td>80</td>\n",
       "    </tr>\n",
       "  </tbody>\n",
       "</table>\n",
       "</div>"
      ],
      "text/plain": [
       "    bloc  icustayid   charttime  gender        age  elixhauser  re_admission  \\\n",
       "6      9          3  7245601200       0  48.295213           0             0   \n",
       "18    12         11  6898399800       1  84.232906           6             1   \n",
       "22     4         12  5805775200       1  32.988959           0             0   \n",
       "32    10         14  4264398900       0  84.728186           2             0   \n",
       "52    20         30  5708098800       0  54.191893           6             0   \n",
       "\n",
       "    died_in_hosp  died_within_48h_of_out_time  mortality_90d  \\\n",
       "6              0                            0              1   \n",
       "18             0                            0              0   \n",
       "22             0                            0              0   \n",
       "32             0                            0              1   \n",
       "52             0                            0              0   \n",
       "\n",
       "    delay_end_of_record_and_discharge_or_death  los  \n",
       "6                                   326.666667   36  \n",
       "18                                    0.800000   48  \n",
       "22                                    0.416667   16  \n",
       "32                                   70.766667   40  \n",
       "52                                  372.916667   80  "
      ]
     },
     "execution_count": 12,
     "metadata": {},
     "output_type": "execute_result"
    }
   ],
   "source": [
    "df_icustays.head()"
   ]
  },
  {
   "cell_type": "code",
   "execution_count": 13,
   "metadata": {},
   "outputs": [
    {
     "data": {
      "text/html": [
       "<div>\n",
       "<style scoped>\n",
       "    .dataframe tbody tr th:only-of-type {\n",
       "        vertical-align: middle;\n",
       "    }\n",
       "\n",
       "    .dataframe tbody tr th {\n",
       "        vertical-align: top;\n",
       "    }\n",
       "\n",
       "    .dataframe thead th {\n",
       "        text-align: right;\n",
       "    }\n",
       "</style>\n",
       "<table border=\"1\" class=\"dataframe\">\n",
       "  <thead>\n",
       "    <tr style=\"text-align: right;\">\n",
       "      <th></th>\n",
       "      <th>Survivors</th>\n",
       "      <th>N</th>\n",
       "      <th>% Female</th>\n",
       "      <th>Mean Age</th>\n",
       "      <th>Hours in ICU</th>\n",
       "    </tr>\n",
       "  </thead>\n",
       "  <tbody>\n",
       "    <tr>\n",
       "      <th>0</th>\n",
       "      <td>Survivors</td>\n",
       "      <td>18066</td>\n",
       "      <td>0.444647</td>\n",
       "      <td>64.075207</td>\n",
       "      <td>56.566146</td>\n",
       "    </tr>\n",
       "    <tr>\n",
       "      <th>1</th>\n",
       "      <td>Non-survivors</td>\n",
       "      <td>2888</td>\n",
       "      <td>0.429017</td>\n",
       "      <td>68.825493</td>\n",
       "      <td>60.939058</td>\n",
       "    </tr>\n",
       "  </tbody>\n",
       "</table>\n",
       "</div>"
      ],
      "text/plain": [
       "       Survivors      N  % Female   Mean Age  Hours in ICU\n",
       "0      Survivors  18066  0.444647  64.075207     56.566146\n",
       "1  Non-survivors   2888  0.429017  68.825493     60.939058"
      ]
     },
     "execution_count": 13,
     "metadata": {},
     "output_type": "execute_result"
    }
   ],
   "source": [
    "df_stats1 = df_icustays.groupby('died_in_hosp')[['gender', 'age', 'los']].mean()\n",
    "df_stats2 = df_icustays.groupby('died_in_hosp')[['icustayid']].count()\n",
    "df_stats1 = df_stats1.rename(columns={'gender': '% Female', 'age': 'Mean Age', 'los': 'Hours in ICU'})\n",
    "df_stats2 = df_stats2.rename(columns={'icustayid': 'N'})\n",
    "df_stats = df_stats2.join(df_stats1)\n",
    "df_stats = df_stats.reset_index()\n",
    "df_stats = df_stats.rename(columns={'died_in_hosp': 'Survivors'})\n",
    "df_stats['Survivors'] = df_stats['Survivors'].apply(lambda x: 'Survivors' if x==0 else 'Non-survivors')\n",
    "df_stats"
   ]
  },
  {
   "cell_type": "code",
   "execution_count": 14,
   "metadata": {},
   "outputs": [
    {
     "name": "stdout",
     "output_type": "stream",
     "text": [
      "\\begin{tabular}{lrrrr}\n",
      "\\toprule\n",
      "     Survivors &     N & \\% Female & Mean Age & Hours in ICU \\\\\n",
      "\\midrule\n",
      "     Survivors & 18066 &    44.5\\% &     64.1 &         56.6 \\\\\n",
      " Non-survivors &  2888 &    42.9\\% &     68.8 &         60.9 \\\\\n",
      "\\bottomrule\n",
      "\\end{tabular}\n",
      "\n"
     ]
    }
   ],
   "source": [
    "print(\n",
    "    df_stats.to_latex(index=False, formatters=[\n",
    "        lambda s: s,\n",
    "        lambda s: '{}'.format(s),\n",
    "        lambda s: '{0:.1%}'.format(s),\n",
    "        lambda s: '{:.1f}'.format(s),\n",
    "        lambda s: '{:.1f}'.format(s),\n",
    "    ])\n",
    ")"
   ]
  },
  {
   "cell_type": "markdown",
   "metadata": {},
   "source": [
    "## Start processing interventions"
   ]
  },
  {
   "cell_type": "code",
   "execution_count": 15,
   "metadata": {},
   "outputs": [],
   "source": [
    "import copy"
   ]
  },
  {
   "cell_type": "code",
   "execution_count": 16,
   "metadata": {},
   "outputs": [],
   "source": [
    "disc_inp_data = copy.deepcopy(orig_data)"
   ]
  },
  {
   "cell_type": "code",
   "execution_count": 17,
   "metadata": {},
   "outputs": [],
   "source": [
    "# assume we're using input_4hourly and max_dose_vaso as the input params for now\n",
    "interventions = orig_data[[\"max_dose_vaso\", \"input_4hourly\"]]"
   ]
  },
  {
   "cell_type": "code",
   "execution_count": 18,
   "metadata": {},
   "outputs": [
    {
     "data": {
      "text/html": [
       "<div>\n",
       "<style scoped>\n",
       "    .dataframe tbody tr th:only-of-type {\n",
       "        vertical-align: middle;\n",
       "    }\n",
       "\n",
       "    .dataframe tbody tr th {\n",
       "        vertical-align: top;\n",
       "    }\n",
       "\n",
       "    .dataframe thead th {\n",
       "        text-align: right;\n",
       "    }\n",
       "</style>\n",
       "<table border=\"1\" class=\"dataframe\">\n",
       "  <thead>\n",
       "    <tr style=\"text-align: right;\">\n",
       "      <th></th>\n",
       "      <th>max_dose_vaso</th>\n",
       "      <th>input_4hourly</th>\n",
       "    </tr>\n",
       "  </thead>\n",
       "  <tbody>\n",
       "    <tr>\n",
       "      <th>0</th>\n",
       "      <td>0.0</td>\n",
       "      <td>50.0</td>\n",
       "    </tr>\n",
       "    <tr>\n",
       "      <th>1</th>\n",
       "      <td>0.0</td>\n",
       "      <td>50.0</td>\n",
       "    </tr>\n",
       "    <tr>\n",
       "      <th>2</th>\n",
       "      <td>0.0</td>\n",
       "      <td>50.0</td>\n",
       "    </tr>\n",
       "    <tr>\n",
       "      <th>3</th>\n",
       "      <td>0.0</td>\n",
       "      <td>50.0</td>\n",
       "    </tr>\n",
       "    <tr>\n",
       "      <th>4</th>\n",
       "      <td>0.0</td>\n",
       "      <td>50.0</td>\n",
       "    </tr>\n",
       "  </tbody>\n",
       "</table>\n",
       "</div>"
      ],
      "text/plain": [
       "   max_dose_vaso  input_4hourly\n",
       "0            0.0           50.0\n",
       "1            0.0           50.0\n",
       "2            0.0           50.0\n",
       "3            0.0           50.0\n",
       "4            0.0           50.0"
      ]
     },
     "execution_count": 18,
     "metadata": {},
     "output_type": "execute_result"
    }
   ],
   "source": [
    "interventions.head(5)"
   ]
  },
  {
   "cell_type": "markdown",
   "metadata": {},
   "source": [
    "## Original action space\n",
    "based on quartiles: [0, <Q1, Q1-Q2, Q2-Q3, >Q3]"
   ]
  },
  {
   "cell_type": "code",
   "execution_count": 19,
   "metadata": {},
   "outputs": [],
   "source": [
    "# only compute quartiles on nonzero values\n",
    "adjusted_vaso = interventions[\"max_dose_vaso\"][interventions[\"max_dose_vaso\"]>0]\n",
    "adjusted_iv = interventions[\"input_4hourly\"][interventions[\"input_4hourly\"]>0]"
   ]
  },
  {
   "cell_type": "code",
   "execution_count": 20,
   "metadata": {},
   "outputs": [],
   "source": [
    "vaso_quartiles = adjusted_vaso.quantile([0.25,0.50,0.75])\n",
    "iv_quartiles = adjusted_iv.quantile([0.25,0.5,0.75])"
   ]
  },
  {
   "cell_type": "code",
   "execution_count": 21,
   "metadata": {},
   "outputs": [
    {
     "data": {
      "text/plain": [
       "array([0.08, 0.2 , 0.45])"
      ]
     },
     "execution_count": 21,
     "metadata": {},
     "output_type": "execute_result"
    }
   ],
   "source": [
    "vq = np.array(vaso_quartiles)\n",
    "vq"
   ]
  },
  {
   "cell_type": "code",
   "execution_count": 22,
   "metadata": {},
   "outputs": [
    {
     "data": {
      "text/plain": [
       "array([ 48., 150., 500.])"
      ]
     },
     "execution_count": 22,
     "metadata": {},
     "output_type": "execute_result"
    }
   ],
   "source": [
    "ivq = np.array(iv_quartiles)\n",
    "ivq"
   ]
  },
  {
   "cell_type": "code",
   "execution_count": 24,
   "metadata": {},
   "outputs": [],
   "source": [
    "discretised_int = copy.deepcopy(interventions)"
   ]
  },
  {
   "cell_type": "code",
   "execution_count": 25,
   "metadata": {},
   "outputs": [],
   "source": [
    "discretised_int['vaso_input'] = discretised_int['max_dose_vaso'].astype(int)\n",
    "discretised_int.loc[(interventions['max_dose_vaso'] == 0.0  ), 'vaso_input'] = 0\n",
    "discretised_int.loc[(interventions['max_dose_vaso'] >  0.0  ) & (interventions['max_dose_vaso'] < vq[0]), 'vaso_input',] = 1\n",
    "discretised_int.loc[(interventions['max_dose_vaso'] >= vq[0]) & (interventions['max_dose_vaso'] < vq[1]), 'vaso_input',] = 2\n",
    "discretised_int.loc[(interventions['max_dose_vaso'] >= vq[1]) & (interventions['max_dose_vaso'] < vq[2]), 'vaso_input',] = 3\n",
    "discretised_int.loc[(interventions['max_dose_vaso'] >= vq[2]), 'vaso_input'] = 4"
   ]
  },
  {
   "cell_type": "code",
   "execution_count": 26,
   "metadata": {},
   "outputs": [],
   "source": [
    "discretised_int['iv_input'] = discretised_int['input_4hourly'].astype(int)\n",
    "discretised_int.loc[(interventions['input_4hourly'] == 0.0  ), 'iv_input'] = 0\n",
    "discretised_int.loc[(interventions['input_4hourly'] >  0.0  )  & (interventions['input_4hourly'] < ivq[0]), 'iv_input'] = 1\n",
    "discretised_int.loc[(interventions['input_4hourly'] >= ivq[0]) & (interventions['input_4hourly'] < ivq[1]), 'iv_input'] = 2\n",
    "discretised_int.loc[(interventions['input_4hourly'] >= ivq[1]) & (interventions['input_4hourly'] < ivq[2]), 'iv_input'] = 3\n",
    "discretised_int.loc[(interventions['input_4hourly'] >= ivq[2]), 'iv_input'] = 4"
   ]
  },
  {
   "cell_type": "code",
   "execution_count": 27,
   "metadata": {},
   "outputs": [
    {
     "data": {
      "text/plain": [
       "<AxesSubplot:ylabel='Frequency'>"
      ]
     },
     "execution_count": 27,
     "metadata": {},
     "output_type": "execute_result"
    },
    {
     "data": {
      "image/png": "[encoded data removed]",
      "text/plain": [
       "<Figure size 432x288 with 1 Axes>"
      ]
     },
     "metadata": {
      "needs_background": "light"
     },
     "output_type": "display_data"
    }
   ],
   "source": [
    "discretised_int['vaso_input'].plot.hist()"
   ]
  },
  {
   "cell_type": "code",
   "execution_count": 28,
   "metadata": {},
   "outputs": [
    {
     "data": {
      "text/plain": [
       "<AxesSubplot:ylabel='Frequency'>"
      ]
     },
     "execution_count": 28,
     "metadata": {},
     "output_type": "execute_result"
    },
    {
     "data": {
      "image/png": "[encoded data removed]",
      "text/plain": [
       "<Figure size 432x288 with 1 Axes>"
      ]
     },
     "metadata": {
      "needs_background": "light"
     },
     "output_type": "display_data"
    }
   ],
   "source": [
    "discretised_int['iv_input'].plot.hist()"
   ]
  },
  {
   "cell_type": "code",
   "execution_count": 29,
   "metadata": {},
   "outputs": [],
   "source": [
    "disc_inp_data['vaso_input'] = discretised_int['vaso_input']\n",
    "disc_inp_data['iv_input'] = discretised_int['iv_input']"
   ]
  },
  {
   "cell_type": "markdown",
   "metadata": {},
   "source": [
    "## Modified action space\n",
    "more clinically meaningful IV fluid doses: [0, <500mL, 500mL-1L, 1-2L, >2L]"
   ]
  },
  {
   "cell_type": "code",
   "execution_count": 30,
   "metadata": {},
   "outputs": [],
   "source": [
    "# only compute quartiles on nonzero values\n",
    "adjusted_vaso = interventions[\"max_dose_vaso\"][interventions[\"max_dose_vaso\"]>0]\n",
    "adjusted_iv = interventions[\"input_4hourly\"][interventions[\"input_4hourly\"]>0]"
   ]
  },
  {
   "cell_type": "code",
   "execution_count": 31,
   "metadata": {},
   "outputs": [],
   "source": [
    "vaso_quartiles = adjusted_vaso.quantile([0.25,0.50,0.75])\n",
    "iv_quartiles = adjusted_iv.quantile([0.25,0.5,0.75])"
   ]
  },
  {
   "cell_type": "code",
   "execution_count": 32,
   "metadata": {},
   "outputs": [
    {
     "data": {
      "text/plain": [
       "array([0.08, 0.2 , 0.45])"
      ]
     },
     "execution_count": 32,
     "metadata": {},
     "output_type": "execute_result"
    }
   ],
   "source": [
    "vq = np.array(vaso_quartiles)\n",
    "vq"
   ]
  },
  {
   "cell_type": "code",
   "execution_count": 33,
   "metadata": {},
   "outputs": [
    {
     "data": {
      "text/plain": [
       "array([ 500, 1000, 2000])"
      ]
     },
     "execution_count": 33,
     "metadata": {},
     "output_type": "execute_result"
    }
   ],
   "source": [
    "# change fluids range to be more clinically relevant\n",
    "ivq  = np.array([500, 1000, 2000])\n",
    "ivq"
   ]
  },
  {
   "cell_type": "code",
   "execution_count": 34,
   "metadata": {},
   "outputs": [],
   "source": [
    "discretised_int = copy.deepcopy(interventions)"
   ]
  },
  {
   "cell_type": "code",
   "execution_count": 35,
   "metadata": {},
   "outputs": [],
   "source": [
    "discretised_int['vaso_input'] = discretised_int['max_dose_vaso'].astype(int)\n",
    "discretised_int.loc[(interventions['max_dose_vaso'] == 0.0  ), 'vaso_input'] = 0\n",
    "discretised_int.loc[(interventions['max_dose_vaso'] >  0.0  ) & (interventions['max_dose_vaso'] < vq[0]), 'vaso_input'] = 1\n",
    "discretised_int.loc[(interventions['max_dose_vaso'] >= vq[0]) & (interventions['max_dose_vaso'] < vq[1]), 'vaso_input'] = 2\n",
    "discretised_int.loc[(interventions['max_dose_vaso'] >= vq[1]) & (interventions['max_dose_vaso'] < vq[2]), 'vaso_input'] = 3\n",
    "discretised_int.loc[(interventions['max_dose_vaso'] >= vq[2]), 'vaso_input'] = 4"
   ]
  },
  {
   "cell_type": "code",
   "execution_count": 36,
   "metadata": {},
   "outputs": [],
   "source": [
    "discretised_int['iv_input'] = discretised_int['input_4hourly'].astype(int)\n",
    "discretised_int.loc[(interventions['input_4hourly'] == 0.0  ), 'iv_input'] = 0\n",
    "discretised_int.loc[(interventions['input_4hourly'] >  0.0  )  & (interventions['input_4hourly'] < ivq[0]), 'iv_input'] = 1\n",
    "discretised_int.loc[(interventions['input_4hourly'] >= ivq[0]) & (interventions['input_4hourly'] < ivq[1]), 'iv_input'] = 2\n",
    "discretised_int.loc[(interventions['input_4hourly'] >= ivq[1]) & (interventions['input_4hourly'] < ivq[2]), 'iv_input'] = 3\n",
    "discretised_int.loc[(interventions['input_4hourly'] >= ivq[2]), 'iv_input'] = 4"
   ]
  },
  {
   "cell_type": "code",
   "execution_count": 37,
   "metadata": {},
   "outputs": [
    {
     "data": {
      "text/plain": [
       "<AxesSubplot:ylabel='Frequency'>"
      ]
     },
     "execution_count": 37,
     "metadata": {},
     "output_type": "execute_result"
    },
    {
     "data": {
      "image/png": "[encoded data removed]",
      "text/plain": [
       "<Figure size 432x288 with 1 Axes>"
      ]
     },
     "metadata": {
      "needs_background": "light"
     },
     "output_type": "display_data"
    }
   ],
   "source": [
    "discretised_int['vaso_input'].plot.hist()"
   ]
  },
  {
   "cell_type": "code",
   "execution_count": 38,
   "metadata": {},
   "outputs": [
    {
     "data": {
      "text/plain": [
       "<AxesSubplot:ylabel='Frequency'>"
      ]
     },
     "execution_count": 38,
     "metadata": {},
     "output_type": "execute_result"
    },
    {
     "data": {
      "image/png": "[encoded data removed]",
      "text/plain": [
       "<Figure size 432x288 with 1 Axes>"
      ]
     },
     "metadata": {
      "needs_background": "light"
     },
     "output_type": "display_data"
    }
   ],
   "source": [
    "discretised_int['iv_input'].plot.hist()"
   ]
  },
  {
   "cell_type": "code",
   "execution_count": 39,
   "metadata": {},
   "outputs": [],
   "source": [
    "disc_inp_data['vaso_input_NEW'] = discretised_int['vaso_input']\n",
    "disc_inp_data['iv_input_NEW'] = discretised_int['iv_input']"
   ]
  },
  {
   "cell_type": "markdown",
   "metadata": {},
   "source": [
    "## Done."
   ]
  },
  {
   "cell_type": "code",
   "execution_count": 40,
   "metadata": {},
   "outputs": [
    {
     "data": {
      "text/html": [
       "<div>\n",
       "<style scoped>\n",
       "    .dataframe tbody tr th:only-of-type {\n",
       "        vertical-align: middle;\n",
       "    }\n",
       "\n",
       "    .dataframe tbody tr th {\n",
       "        vertical-align: top;\n",
       "    }\n",
       "\n",
       "    .dataframe thead th {\n",
       "        text-align: right;\n",
       "    }\n",
       "</style>\n",
       "<table border=\"1\" class=\"dataframe\">\n",
       "  <thead>\n",
       "    <tr style=\"text-align: right;\">\n",
       "      <th></th>\n",
       "      <th>bloc</th>\n",
       "      <th>icustayid</th>\n",
       "      <th>charttime</th>\n",
       "      <th>gender</th>\n",
       "      <th>age</th>\n",
       "      <th>elixhauser</th>\n",
       "      <th>re_admission</th>\n",
       "      <th>died_in_hosp</th>\n",
       "      <th>died_within_48h_of_out_time</th>\n",
       "      <th>mortality_90d</th>\n",
       "      <th>...</th>\n",
       "      <th>input_4hourly</th>\n",
       "      <th>output_total</th>\n",
       "      <th>output_4hourly</th>\n",
       "      <th>cumulated_balance</th>\n",
       "      <th>SOFA</th>\n",
       "      <th>SIRS</th>\n",
       "      <th>vaso_input</th>\n",
       "      <th>iv_input</th>\n",
       "      <th>vaso_input_NEW</th>\n",
       "      <th>iv_input_NEW</th>\n",
       "    </tr>\n",
       "  </thead>\n",
       "  <tbody>\n",
       "    <tr>\n",
       "      <th>0</th>\n",
       "      <td>1</td>\n",
       "      <td>3</td>\n",
       "      <td>7245486000</td>\n",
       "      <td>0</td>\n",
       "      <td>17639.826435</td>\n",
       "      <td>0</td>\n",
       "      <td>0</td>\n",
       "      <td>0</td>\n",
       "      <td>0</td>\n",
       "      <td>1</td>\n",
       "      <td>...</td>\n",
       "      <td>50.0</td>\n",
       "      <td>13617.0</td>\n",
       "      <td>520.0</td>\n",
       "      <td>-7090.0</td>\n",
       "      <td>4</td>\n",
       "      <td>1</td>\n",
       "      <td>0</td>\n",
       "      <td>2</td>\n",
       "      <td>0</td>\n",
       "      <td>1</td>\n",
       "    </tr>\n",
       "    <tr>\n",
       "      <th>1</th>\n",
       "      <td>2</td>\n",
       "      <td>3</td>\n",
       "      <td>7245500400</td>\n",
       "      <td>0</td>\n",
       "      <td>17639.826435</td>\n",
       "      <td>0</td>\n",
       "      <td>0</td>\n",
       "      <td>0</td>\n",
       "      <td>0</td>\n",
       "      <td>1</td>\n",
       "      <td>...</td>\n",
       "      <td>50.0</td>\n",
       "      <td>13982.0</td>\n",
       "      <td>365.0</td>\n",
       "      <td>-7405.0</td>\n",
       "      <td>6</td>\n",
       "      <td>2</td>\n",
       "      <td>0</td>\n",
       "      <td>2</td>\n",
       "      <td>0</td>\n",
       "      <td>1</td>\n",
       "    </tr>\n",
       "    <tr>\n",
       "      <th>2</th>\n",
       "      <td>3</td>\n",
       "      <td>3</td>\n",
       "      <td>7245514800</td>\n",
       "      <td>0</td>\n",
       "      <td>17639.826435</td>\n",
       "      <td>0</td>\n",
       "      <td>0</td>\n",
       "      <td>0</td>\n",
       "      <td>0</td>\n",
       "      <td>1</td>\n",
       "      <td>...</td>\n",
       "      <td>50.0</td>\n",
       "      <td>14262.0</td>\n",
       "      <td>280.0</td>\n",
       "      <td>-7635.0</td>\n",
       "      <td>5</td>\n",
       "      <td>2</td>\n",
       "      <td>0</td>\n",
       "      <td>2</td>\n",
       "      <td>0</td>\n",
       "      <td>1</td>\n",
       "    </tr>\n",
       "    <tr>\n",
       "      <th>3</th>\n",
       "      <td>4</td>\n",
       "      <td>3</td>\n",
       "      <td>7245529200</td>\n",
       "      <td>0</td>\n",
       "      <td>17639.826435</td>\n",
       "      <td>0</td>\n",
       "      <td>0</td>\n",
       "      <td>0</td>\n",
       "      <td>0</td>\n",
       "      <td>1</td>\n",
       "      <td>...</td>\n",
       "      <td>50.0</td>\n",
       "      <td>14602.0</td>\n",
       "      <td>340.0</td>\n",
       "      <td>-7925.0</td>\n",
       "      <td>5</td>\n",
       "      <td>1</td>\n",
       "      <td>0</td>\n",
       "      <td>2</td>\n",
       "      <td>0</td>\n",
       "      <td>1</td>\n",
       "    </tr>\n",
       "    <tr>\n",
       "      <th>4</th>\n",
       "      <td>5</td>\n",
       "      <td>3</td>\n",
       "      <td>7245543600</td>\n",
       "      <td>0</td>\n",
       "      <td>17639.826435</td>\n",
       "      <td>0</td>\n",
       "      <td>0</td>\n",
       "      <td>0</td>\n",
       "      <td>0</td>\n",
       "      <td>1</td>\n",
       "      <td>...</td>\n",
       "      <td>50.0</td>\n",
       "      <td>15142.0</td>\n",
       "      <td>540.0</td>\n",
       "      <td>-8415.0</td>\n",
       "      <td>5</td>\n",
       "      <td>2</td>\n",
       "      <td>0</td>\n",
       "      <td>2</td>\n",
       "      <td>0</td>\n",
       "      <td>1</td>\n",
       "    </tr>\n",
       "  </tbody>\n",
       "</table>\n",
       "<p>5 rows × 63 columns</p>\n",
       "</div>"
      ],
      "text/plain": [
       "   bloc  icustayid   charttime  gender           age  elixhauser  \\\n",
       "0     1          3  7245486000       0  17639.826435           0   \n",
       "1     2          3  7245500400       0  17639.826435           0   \n",
       "2     3          3  7245514800       0  17639.826435           0   \n",
       "3     4          3  7245529200       0  17639.826435           0   \n",
       "4     5          3  7245543600       0  17639.826435           0   \n",
       "\n",
       "   re_admission  died_in_hosp  died_within_48h_of_out_time  mortality_90d  \\\n",
       "0             0             0                            0              1   \n",
       "1             0             0                            0              1   \n",
       "2             0             0                            0              1   \n",
       "3             0             0                            0              1   \n",
       "4             0             0                            0              1   \n",
       "\n",
       "   ...  input_4hourly  output_total  output_4hourly  cumulated_balance  SOFA  \\\n",
       "0  ...           50.0       13617.0           520.0            -7090.0     4   \n",
       "1  ...           50.0       13982.0           365.0            -7405.0     6   \n",
       "2  ...           50.0       14262.0           280.0            -7635.0     5   \n",
       "3  ...           50.0       14602.0           340.0            -7925.0     5   \n",
       "4  ...           50.0       15142.0           540.0            -8415.0     5   \n",
       "\n",
       "   SIRS  vaso_input  iv_input  vaso_input_NEW  iv_input_NEW  \n",
       "0     1           0         2               0             1  \n",
       "1     2           0         2               0             1  \n",
       "2     2           0         2               0             1  \n",
       "3     1           0         2               0             1  \n",
       "4     2           0         2               0             1  \n",
       "\n",
       "[5 rows x 63 columns]"
      ]
     },
     "execution_count": 40,
     "metadata": {},
     "output_type": "execute_result"
    }
   ],
   "source": [
    "disc_inp_data.head()"
   ]
  },
  {
   "cell_type": "code",
   "execution_count": 41,
   "metadata": {},
   "outputs": [
    {
     "data": {
      "text/plain": [
       "0    236579\n",
       "3     11821\n",
       "4     10835\n",
       "1     10218\n",
       "2      9123\n",
       "Name: vaso_input, dtype: int64"
      ]
     },
     "execution_count": 41,
     "metadata": {},
     "output_type": "execute_result"
    }
   ],
   "source": [
    "disc_inp_data['vaso_input'].value_counts()"
   ]
  },
  {
   "cell_type": "code",
   "execution_count": 42,
   "metadata": {},
   "outputs": [
    {
     "data": {
      "text/plain": [
       "0    77728\n",
       "3    51022\n",
       "4    50547\n",
       "1    50066\n",
       "2    49213\n",
       "Name: iv_input, dtype: int64"
      ]
     },
     "execution_count": 42,
     "metadata": {},
     "output_type": "execute_result"
    }
   ],
   "source": [
    "disc_inp_data['iv_input'].value_counts()"
   ]
  },
  {
   "cell_type": "code",
   "execution_count": 43,
   "metadata": {},
   "outputs": [
    {
     "data": {
      "text/plain": [
       "0    236579\n",
       "3     11821\n",
       "4     10835\n",
       "1     10218\n",
       "2      9123\n",
       "Name: vaso_input_NEW, dtype: int64"
      ]
     },
     "execution_count": 43,
     "metadata": {},
     "output_type": "execute_result"
    }
   ],
   "source": [
    "disc_inp_data['vaso_input_NEW'].value_counts()"
   ]
  },
  {
   "cell_type": "code",
   "execution_count": 44,
   "metadata": {},
   "outputs": [
    {
     "data": {
      "text/plain": [
       "1    150301\n",
       "0     77728\n",
       "2     28752\n",
       "3     15685\n",
       "4      6110\n",
       "Name: iv_input_NEW, dtype: int64"
      ]
     },
     "execution_count": 44,
     "metadata": {},
     "output_type": "execute_result"
    }
   ],
   "source": [
    "disc_inp_data['iv_input_NEW'].value_counts()"
   ]
  },
  {
   "cell_type": "code",
   "execution_count": 45,
   "metadata": {},
   "outputs": [],
   "source": [
    "disc_inp_data.to_csv('../data/discretised_input_data.csv', index=False)"
   ]
  }
 ],
 "metadata": {
  "kernelspec": {
   "display_name": "Python 3 (mimic)",
   "language": "python",
   "name": "mimic"
  },
  "language_info": {
   "codemirror_mode": {
    "name": "ipython",
    "version": 3
   },
   "file_extension": ".py",
   "mimetype": "text/x-python",
   "name": "python",
   "nbconvert_exporter": "python",
   "pygments_lexer": "ipython3",
   "version": "3.8.5"
  }
 },
 "nbformat": 4,
 "nbformat_minor": 4
}
