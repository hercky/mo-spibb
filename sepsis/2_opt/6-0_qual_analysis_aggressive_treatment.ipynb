{
 "cells": [
  {
   "cell_type": "markdown",
   "metadata": {},
   "source": [
    "## Code for qualitative analysis - Aggressive treatments\n",
    "\n",
    "Code is based on: https://github.com/clinicalml/trajectory-inspection/tree/main/notebooks"
   ]
  },
  {
   "cell_type": "code",
   "execution_count": 1,
   "metadata": {},
   "outputs": [],
   "source": [
    "%load_ext autoreload\n",
    "%autoreload 2"
   ]
  },
  {
   "cell_type": "code",
   "execution_count": 2,
   "metadata": {},
   "outputs": [],
   "source": [
    "import numpy as np\n",
    "import pandas as pd\n",
    "import pickle\n",
    "from tqdm import tqdm\n",
    "\n",
    "import matplotlib.pyplot as plt\n",
    "\n",
    "import cvxpy as cp\n",
    "import time\n",
    "\n",
    "from utils import reward_direct_policy_evaluation, cost_direct_policy_evaluation"
   ]
  },
  {
   "cell_type": "markdown",
   "metadata": {},
   "source": [
    "The defaults go here "
   ]
  },
  {
   "cell_type": "code",
   "execution_count": 3,
   "metadata": {},
   "outputs": [],
   "source": [
    "SEED = 0\n",
    "LAMBDA_R = 1.0\n",
    "LAMBDA_C = 1.0\n",
    "\n",
    "COEFFS = (0.0, 1.0)\n",
    "\n",
    "EPS = 10.0 "
   ]
  },
  {
   "cell_type": "code",
   "execution_count": 4,
   "metadata": {},
   "outputs": [],
   "source": [
    "# ----------- Defaults MDP parameters -------------\n",
    "nS, nA = 750, 25\n",
    "DEATH_STATE = 750\n",
    "SURVIVAL_STATE = 751\n",
    "\n",
    "gamma = 0.99\n",
    "\n",
    "# ----- User args \n",
    "SEED_LIST = 0\n",
    "FREQUENCY_THRESHOLD = 10.0\n",
    "COST_FOR_RARE_DECISION = 10.0\n",
    "\n",
    "\n",
    "\n",
    "# -------- Folder Paths -------------\n",
    "basepath = 'enter/path/here'\n",
    "\n",
    "# Path variables\n",
    "IMPORT_PATH = f'{basepath}/m_hat/{SEED}'\n",
    "OUTPUT_PATH = f'{basepath}/output/{SEED}/freq_{FREQUENCY_THRESHOLD}_cost_{COST_FOR_RARE_DECISION}'"
   ]
  },
  {
   "cell_type": "code",
   "execution_count": 5,
   "metadata": {},
   "outputs": [],
   "source": [
    "np.random.seed(SEED)"
   ]
  },
  {
   "cell_type": "markdown",
   "metadata": {},
   "source": [
    "### Load the MDP stats"
   ]
  },
  {
   "cell_type": "code",
   "execution_count": 6,
   "metadata": {},
   "outputs": [],
   "source": [
    "P_mat, R_mat = pickle.load(open(f\"{IMPORT_PATH}/MDP_mat.p\", \"rb\"))\n",
    "counts_mat = pickle.load(open(f\"{IMPORT_PATH}/MDP_counts.p\", \"rb\"))\n",
    "\n",
    "# load the defaults for this seed\n",
    "C_mat = pickle.load(open(f\"{OUTPUT_PATH}/C_mat.p\", \"rb\"))\n",
    "pi_baseline = pickle.load(open(f\"{OUTPUT_PATH}/pi_baseline.p\", \"rb\"))"
   ]
  },
  {
   "cell_type": "code",
   "execution_count": 7,
   "metadata": {},
   "outputs": [],
   "source": [
    "def load_soln_policy(coeffs, eps):\n",
    "    \n",
    "    sol_name = f'cpi_{coeffs[0]}_{coeffs[1]}_{eps}.p'\n",
    "    \n",
    "    pi_solution = pickle.load(open(f'{OUTPUT_PATH}/{sol_name}', 'rb'))\n",
    "    \n",
    "    return pi_solution"
   ]
  },
  {
   "cell_type": "code",
   "execution_count": 8,
   "metadata": {},
   "outputs": [],
   "source": [
    "pi_regular = pickle.load(open(f'{OUTPUT_PATH}/regular_PI_solution.p', 'rb'))"
   ]
  },
  {
   "cell_type": "code",
   "execution_count": 9,
   "metadata": {},
   "outputs": [
    {
     "data": {
      "text/plain": [
       "(752, 25)"
      ]
     },
     "execution_count": 9,
     "metadata": {},
     "output_type": "execute_result"
    }
   ],
   "source": [
    "pi_sopt = load_soln_policy(COEFFS, EPS)\n",
    "\n",
    "pi_sopt.shape"
   ]
  },
  {
   "cell_type": "markdown",
   "metadata": {},
   "source": [
    "Load the train corresponding to a seed"
   ]
  },
  {
   "cell_type": "code",
   "execution_count": 10,
   "metadata": {},
   "outputs": [
    {
     "name": "stdout",
     "output_type": "stream",
     "text": [
      "Effective sample size of train set 14667\n"
     ]
    }
   ],
   "source": [
    "traj_tr = pickle.load(open(f'{IMPORT_PATH}/trajDr_tr.pkl', 'rb'))\n",
    "print('Effective sample size of train set', len(traj_tr))"
   ]
  },
  {
   "cell_type": "code",
   "execution_count": 11,
   "metadata": {},
   "outputs": [],
   "source": [
    "orig_count_sa = counts_mat.sum(axis=-1)"
   ]
  },
  {
   "cell_type": "code",
   "execution_count": 12,
   "metadata": {},
   "outputs": [],
   "source": [
    "orig_state_count = orig_count_sa.sum(-1)"
   ]
  },
  {
   "cell_type": "markdown",
   "metadata": {},
   "source": [
    "## Qualitive Analysis starts here"
   ]
  },
  {
   "cell_type": "code",
   "execution_count": 13,
   "metadata": {},
   "outputs": [],
   "source": [
    "def fix_p( p):\n",
    "    if p.sum() != 1.0:\n",
    "        p = p*(1./p.sum())\n",
    "    return p"
   ]
  },
  {
   "cell_type": "code",
   "execution_count": 14,
   "metadata": {},
   "outputs": [],
   "source": [
    "def select_action(pi_s, mode='sample'):\n",
    "    \"\"\"\n",
    "    mode: sample/argmax\n",
    "        -> sample: then samples from the probility distribution\n",
    "        -> argmax: select the argmax corresponding to prob distribution\n",
    "    \"\"\"\n",
    "    if mode=='sample':\n",
    "        # clip the probs to round of errors \n",
    "        pi_s = np.clip(pi_s, a_min=0, a_max=1.0)\n",
    "        pi_s = fix_p(pi_s)\n",
    "        # sample a here \n",
    "        a_sampled = np.random.choice(np.arange(nA), p=pi_s)\n",
    "        return a_sampled\n",
    "    elif mode=='argmax':\n",
    "        a_argmax = np.argmax(pi_s)\n",
    "        return a_argmax\n",
    "    else:\n",
    "        raise NotImplementedError(\"No other mode implemented yet!\")"
   ]
  },
  {
   "cell_type": "code",
   "execution_count": 15,
   "metadata": {},
   "outputs": [],
   "source": [
    "def get_percentages(pi, mode='sample'):\n",
    "    \"\"\"\n",
    "    takes a policy as input and returns the rl percentages associated with it\n",
    "    \"\"\"\n",
    "    rl_percentages = []\n",
    "    \n",
    "#     for s in tqdm(range(nS)):\n",
    "    for s in range(nS):\n",
    "        # \n",
    "        a = select_action(pi[s], mode)\n",
    "        # \n",
    "        approx_count = orig_count_sa[s, a]\n",
    "        rl_percentages.append(approx_count/float(orig_state_count[s]))\n",
    "        \n",
    "    return rl_percentages"
   ]
  },
  {
   "cell_type": "markdown",
   "metadata": {},
   "source": [
    "### Calculate the state occurrence proportion corresponding to top-K"
   ]
  },
  {
   "cell_type": "code",
   "execution_count": 16,
   "metadata": {},
   "outputs": [],
   "source": [
    "def calc_state_occurrence_proportion(top_num, pi, mode='sample'):\n",
    "    rl_percentages = get_percentages(pi, mode)\n",
    "    sorted_idxs = np.argsort(np.array(rl_percentages))\n",
    "    top_idxs = sorted_idxs[0:top_num]\n",
    "    total_state_count = 0\n",
    "    for idx in top_idxs:\n",
    "        total_state_count += orig_state_count[idx]\n",
    "        \n",
    "    return total_state_count/float(np.sum(orig_state_count))"
   ]
  },
  {
   "cell_type": "markdown",
   "metadata": {},
   "source": [
    "## Calculate RL and Common avg counts"
   ]
  },
  {
   "cell_type": "code",
   "execution_count": 17,
   "metadata": {},
   "outputs": [],
   "source": [
    "def calc_rl_common_avg_count(pi, top_num, mode='sample'):\n",
    "    # calculate rl percentages corresponding to pi\n",
    "    rl_percentages = get_percentages(pi)\n",
    "    \n",
    "    # sort and find the coomon for top_num\n",
    "    sorted_idxs = np.argsort(np.array(rl_percentages))\n",
    "    top_idxs = sorted_idxs[0:top_num]\n",
    "    total_rl_count = 0\n",
    "    total_common_count = 0\n",
    "    counts = np.empty(top_num)\n",
    "    j = 0\n",
    "    \n",
    "    for idx in top_idxs:\n",
    "        # select action based on a mode\n",
    "        a = select_action(pi[idx], mode)\n",
    "    \n",
    "        counts[j] = orig_count_sa[idx, a]\n",
    "        j += 1\n",
    "        total_rl_count += orig_count_sa[idx, a]\n",
    "        total_common_count += np.max(orig_count_sa[idx])\n",
    "    \n",
    "    print(f'RL-Alg avg count: {total_rl_count/float(top_num)}')\n",
    "    print(f'Most common avg count: {total_common_count/float(top_num)}')\n",
    "    \n",
    "    return np.unique(counts,return_counts=True)"
   ]
  },
  {
   "cell_type": "markdown",
   "metadata": {},
   "source": [
    "## Get RL and Common Percentage"
   ]
  },
  {
   "cell_type": "code",
   "execution_count": 18,
   "metadata": {},
   "outputs": [],
   "source": [
    "def calc_rl_common_avg_perc(pi, top_num, mode='sample'):\n",
    "    # calculate the percentage again \n",
    "    rl_percentages = get_percentages(pi)\n",
    "    \n",
    "    sorted_idxs = np.argsort(np.array(rl_percentages))\n",
    "    #top_idxs = sorted_idxs[5:5+top_num]\n",
    "    top_idxs = sorted_idxs[0:top_num]\n",
    "    \n",
    "    rl_percs = np.empty(top_num)\n",
    "    common_percs = np.empty(top_num)\n",
    "    j = 0\n",
    "    for idx in top_idxs:\n",
    "        # round and take care of floating point issues \n",
    "        a = select_action(pi[idx], mode)\n",
    "    \n",
    "        rl_percs[j] = orig_count_sa[idx, a]/float(orig_state_count[idx])\n",
    "        common_percs[j] = np.max(orig_count_sa[idx])/float(orig_state_count[idx])\n",
    "        j += 1\n",
    "        \n",
    "    print(f'Avg RL percentage: {np.average(rl_percs)}')\n",
    "    print(f'Avg Common percentage: {np.average(common_percs)}')"
   ]
  },
  {
   "cell_type": "markdown",
   "metadata": {},
   "source": [
    "## Top-K Quantify"
   ]
  },
  {
   "cell_type": "code",
   "execution_count": 19,
   "metadata": {},
   "outputs": [],
   "source": [
    "TOP_K_LIST  = [750]"
   ]
  },
  {
   "cell_type": "code",
   "execution_count": 20,
   "metadata": {},
   "outputs": [
    {
     "name": "stderr",
     "output_type": "stream",
     "text": [
      "  0%|          | 0/1 [00:00<?, ?it/s]"
     ]
    },
    {
     "name": "stdout",
     "output_type": "stream",
     "text": [
      "==================================\n",
      "Analysing for top-750 states now\n",
      "==================================\n",
      "----    Mode:sample    ----\n",
      "For regular policy (unconstrained) iteration:\n",
      "Top 750 states with smallest proportions make up 100.0% of transitions.\n",
      "Count stats:\n",
      "RL-Alg avg count: 5.348\n",
      "Most common avg count: 138.268\n",
      "Percentage stats:\n",
      "Avg RL percentage: 0.0300642940017241\n",
      "Avg Common percentage: 0.5147115615063391\n",
      "---------\n",
      "For SOPT iteration:\n",
      "Top 750 states with smallest proportions make up 100.0% of transitions.\n",
      "Count stats:\n",
      "RL-Alg avg count: 54.812\n",
      "Most common avg count: 138.268\n",
      "Percentage stats:\n",
      "Avg RL percentage: 0.22320083497254017\n",
      "Avg Common percentage: 0.5147115615063391\n",
      "---------\n",
      "For Baseline iteration:\n",
      "Top 750 states with smallest proportions make up 100.0% of transitions.\n",
      "Count stats:\n",
      "RL-Alg avg count: 94.516\n",
      "Most common avg count: 138.268\n",
      "Percentage stats:\n",
      "Avg RL percentage: 0.36112408192784856\n",
      "Avg Common percentage: 0.5147115615063391\n",
      "----    Mode:argmax    ----\n",
      "For regular policy (unconstrained) iteration:\n",
      "Top 750 states with smallest proportions make up 100.0% of transitions.\n",
      "Count stats:\n",
      "RL-Alg avg count: 5.349333333333333\n",
      "Most common avg count: 138.268\n",
      "Percentage stats:\n",
      "Avg RL percentage: 0.030066687164117256\n",
      "Avg Common percentage: 0.5147115615063391\n",
      "---------\n",
      "For SOPT iteration:\n",
      "Top 750 states with smallest proportions make up 100.0% of transitions.\n",
      "Count stats:\n",
      "RL-Alg avg count: 56.14933333333333\n",
      "Most common avg count: 138.268\n",
      "Percentage stats:\n",
      "Avg RL percentage: 0.23377680038424437\n",
      "Avg Common percentage: 0.5147115615063391\n",
      "---------\n",
      "For Baseline iteration:\n",
      "Top 750 states with smallest proportions make up 100.0% of transitions.\n",
      "Count stats:\n",
      "RL-Alg avg count: 138.268\n",
      "Most common avg count: 138.268\n",
      "Percentage stats:\n",
      "Avg RL percentage: 0.5147115615063391\n",
      "Avg Common percentage: 0.5147115615063391\n"
     ]
    },
    {
     "name": "stderr",
     "output_type": "stream",
     "text": [
      "100%|██████████| 1/1 [00:02<00:00,  2.39s/it]\n"
     ]
    }
   ],
   "source": [
    "for top_num in tqdm(TOP_K_LIST):\n",
    "    \n",
    "    print(f'==================================')\n",
    "    print(f'Analysing for top-{top_num} states now')\n",
    "    print(f'==================================')\n",
    "    \n",
    "    for mode in ['sample', 'argmax']:\n",
    "        \n",
    "        print(f'----    Mode:{mode}    ----')\n",
    "        \n",
    "        # for Regular PI         \n",
    "        print(f'For regular policy (unconstrained) iteration:')\n",
    "        result = calc_state_occurrence_proportion(top_num, pi_regular, mode)\n",
    "        print(f'Top {top_num} states with smallest proportions make up {result*100}% of transitions.')\n",
    "        print(f'Count stats:')\n",
    "        calc_rl_common_avg_count(pi_regular, top_num, mode)\n",
    "        print(f'Percentage stats:')\n",
    "        calc_rl_common_avg_perc(pi_regular, top_num, mode)\n",
    "\n",
    "        print(f'---------')\n",
    "        # for SOPT         \n",
    "        print(f'For SOPT iteration:')\n",
    "        result = calc_state_occurrence_proportion(top_num, pi_sopt, mode)\n",
    "        print(f'Top {top_num} states with smallest proportions make up {result*100}% of transitions.')\n",
    "        print(f'Count stats:')\n",
    "        calc_rl_common_avg_count(pi_sopt, top_num, mode)\n",
    "        print(f'Percentage stats:')\n",
    "        calc_rl_common_avg_perc(pi_sopt, top_num, mode)\n",
    "\n",
    "\n",
    "        print(f'---------')\n",
    "        # for baseline         \n",
    "        print(f'For Baseline iteration:')\n",
    "        result = calc_state_occurrence_proportion(top_num, pi_baseline, mode)\n",
    "        print(f'Top {top_num} states with smallest proportions make up {result*100}% of transitions.')\n",
    "        print(f'Count stats:')\n",
    "        calc_rl_common_avg_count(pi_baseline, top_num, mode)\n",
    "        print(f'Percentage stats:')\n",
    "        calc_rl_common_avg_perc(pi_baseline, top_num, mode)\n",
    "    \n",
    "    time.sleep(1)"
   ]
  },
  {
   "cell_type": "markdown",
   "metadata": {},
   "source": [
    "## Vasopresser claim"
   ]
  },
  {
   "cell_type": "code",
   "execution_count": 21,
   "metadata": {},
   "outputs": [],
   "source": [
    "def calc_vaso_stats(pi, top_num=750, mode='sample'):\n",
    "    rl_percentages = get_percentages(pi, mode)\n",
    "    # sort\n",
    "    sorted_idxs = np.argsort(np.array(rl_percentages))\n",
    "\n",
    "    top_idxs = sorted_idxs[0:top_num]\n",
    "    \n",
    "    common_vasopressor_counts = np.zeros(5,dtype=np.int32)\n",
    "    rl_vasopressor_counts = np.zeros(5,dtype=np.int32)\n",
    "    total_rl_vasopressor_counts = np.zeros(5,dtype=np.int32)\n",
    "    \n",
    "    for idx in top_idxs:\n",
    "        rl_action = select_action(pi[idx], mode)\n",
    "        common_action = np.argmax(orig_count_sa[idx])\n",
    "\n",
    "        # for common action\n",
    "#         row, col = a // 5, a % 5\n",
    "#         vaso, iv = col, row\n",
    "        \n",
    "        common_vasopressor_counts[int(common_action%5)] += 1\n",
    "        if common_action%5 == 0:\n",
    "            rl_vasopressor_counts[int(rl_action%5)] += 1\n",
    "        total_rl_vasopressor_counts[int(rl_action%5)] += 1\n",
    "            \n",
    "    print(common_vasopressor_counts)\n",
    "    print(rl_vasopressor_counts)\n",
    "    print(total_rl_vasopressor_counts)\n",
    "    \n",
    "    msg = (f'For {common_vasopressor_counts[0]} of these {top_num} states, common practice involves zero vasopressors.'\n",
    "           f' Yet, the RL policy recommends vasopressors in {common_vasopressor_counts[0]-rl_vasopressor_counts[0]} of those states'\n",
    "           f' ({((common_vasopressor_counts[0]-rl_vasopressor_counts[0])/float(common_vasopressor_counts[0]))*100:0.2f} %)'\n",
    "           f', with {sum(rl_vasopressor_counts[-2:])} of those recommendations being large doses, which we define as those in the upper 50th percentile of nonzero amounts.'\n",
    "        )\n",
    "    print(msg)"
   ]
  },
  {
   "cell_type": "code",
   "execution_count": 22,
   "metadata": {},
   "outputs": [
    {
     "name": "stdout",
     "output_type": "stream",
     "text": [
      "[722   1   1  14  12]\n",
      "[160 137 130 139 156]\n",
      "[175 142 134 142 157]\n",
      "For 722 of these 750 states, common practice involves zero vasopressors. Yet, the RL policy recommends vasopressors in 562 of those states (77.84 %), with 295 of those recommendations being large doses, which we define as those in the upper 50th percentile of nonzero amounts.\n"
     ]
    }
   ],
   "source": [
    "calc_vaso_stats(pi_regular, top_num=750, mode='argmax')"
   ]
  },
  {
   "cell_type": "code",
   "execution_count": 23,
   "metadata": {},
   "outputs": [
    {
     "name": "stdout",
     "output_type": "stream",
     "text": [
      "[722   1   1  14  12]\n",
      "[588  36  28  46  24]\n",
      "[595  37  31  53  34]\n",
      "For 722 of these 750 states, common practice involves zero vasopressors. Yet, the RL policy recommends vasopressors in 134 of those states (18.56 %), with 70 of those recommendations being large doses, which we define as those in the upper 50th percentile of nonzero amounts.\n"
     ]
    }
   ],
   "source": [
    "calc_vaso_stats(pi_sopt,  top_num=750, mode='argmax')"
   ]
  }
 ],
 "metadata": {
  "kernelspec": {
   "display_name": "Python 3 (mimic)",
   "language": "python",
   "name": "mimic"
  },
  "language_info": {
   "codemirror_mode": {
    "name": "ipython",
    "version": 3
   },
   "file_extension": ".py",
   "mimetype": "text/x-python",
   "name": "python",
   "nbconvert_exporter": "python",
   "pygments_lexer": "ipython3",
   "version": "3.8.5"
  }
 },
 "nbformat": 4,
 "nbformat_minor": 4
}
