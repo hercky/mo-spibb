{
 "cells": [
  {
   "cell_type": "code",
   "execution_count": 1,
   "metadata": {
    "pycharm": {
     "is_executing": true
    }
   },
   "outputs": [],
   "source": [
    "%load_ext autoreload\n",
    "%autoreload 2"
   ]
  },
  {
   "cell_type": "code",
   "execution_count": 2,
   "metadata": {
    "pycharm": {
     "is_executing": true
    }
   },
   "outputs": [],
   "source": [
    "# add the path for the src\n",
    "import sys\n",
    "sys.path.insert(0, '/path/to/gridworld/')"
   ]
  },
  {
   "cell_type": "code",
   "execution_count": 3,
   "metadata": {},
   "outputs": [],
   "source": [
    "import numpy as np\n",
    "import pickle\n",
    "\n",
    "import os\n",
    "from tqdm import tqdm\n",
    "import cvxpy as cp"
   ]
  },
  {
   "cell_type": "code",
   "execution_count": 4,
   "metadata": {},
   "outputs": [],
   "source": [
    "import matplotlib.pyplot as plt\n",
    "import matplotlib as mpl\n",
    "import matplotlib.pylab as pltlab\n",
    "\n",
    "%matplotlib inline\n",
    "\n",
    "# plt.rcParams['figure.dpi'] = 200\n",
    "import seaborn as sns\n",
    "sns.set(color_codes=True)"
   ]
  },
  {
   "cell_type": "code",
   "execution_count": 5,
   "metadata": {},
   "outputs": [],
   "source": [
    "from gridworld.agents.tabular_base_agent import Agent\n",
    "from gridworld.core.utils import direct_policy_evaluation, bounded_successive_approximation, default_termination"
   ]
  },
  {
   "cell_type": "markdown",
   "metadata": {},
   "source": [
    "# Section 1 : Implementation of Le et al (2019)\n",
    "\n",
    "## Section 1.1: Utility functions"
   ]
  },
  {
   "cell_type": "markdown",
   "metadata": {},
   "source": [
    "### Utilities for Policy Iteration "
   ]
  },
  {
   "cell_type": "code",
   "execution_count": 6,
   "metadata": {
    "jupyter": {
     "outputs_hidden": false
    },
    "pycharm": {
     "name": "#%%\n"
    }
   },
   "outputs": [],
   "source": [
    "def make_cost_policy_iteration_operator(P, R, discount, **kwargs):\n",
    "    \"\"\"\n",
    "    P: sat\n",
    "    R: sa\n",
    "    returns a operator that does 1 step of policy improvement\n",
    "    via the Linear Programming formulation of the PI\n",
    "    \n",
    "    Imp: minimizes the cost!\n",
    "\n",
    "    :param P: transition matrix\n",
    "    \"\"\"\n",
    "    nstates = R.shape[0]\n",
    "    nactions = R.shape[1]\n",
    "\n",
    "    def lp_policy_iteration_operator(policy):\n",
    "        # calculate the q-values\n",
    "        v = direct_policy_evaluation(P, R, discount, policy)        \n",
    "        Q = R + discount * np.einsum('sat,t -> sa', P, v)\n",
    "\n",
    "        # final policy placeholder\n",
    "        soln_pi = np.zeros((nstates, nactions))\n",
    "        \n",
    "        # greedy update \n",
    "        soln_pi[np.arange(nstates), np.argmin(Q,axis=1)] = 1.0\n",
    "        return soln_pi\n",
    "\n",
    "    return lp_policy_iteration_operator"
   ]
  },
  {
   "cell_type": "code",
   "execution_count": 7,
   "metadata": {},
   "outputs": [],
   "source": [
    "def cost_policy_iteration(P, R, discount, max_iters = 25):\n",
    "    \"\"\"\n",
    "    P: sat\n",
    "    R: sa\n",
    "    does policy iteration, starting from a random policy and doing 1-step PI based on LP\n",
    "    \"\"\"\n",
    "    # create the operator \n",
    "    pi_operator = make_cost_policy_iteration_operator(P, R, discount)\n",
    "\n",
    "    # create random pi\n",
    "    nstates = R.shape[0]\n",
    "    nactions = R.shape[1]\n",
    "    \n",
    "    random_policy = np.ones((nstates, nactions))/nactions\n",
    "\n",
    "    pi_solution = bounded_successive_approximation(random_policy,\n",
    "                                      operator=pi_operator,\n",
    "                                      termination_condition=default_termination,\n",
    "                                      max_limit= max_iters,)\n",
    "\n",
    "    return pi_solution"
   ]
  },
  {
   "cell_type": "markdown",
   "metadata": {},
   "source": [
    "###  Utilities for storing values"
   ]
  },
  {
   "cell_type": "code",
   "execution_count": 8,
   "metadata": {},
   "outputs": [],
   "source": [
    "class ValueFunction(object):\n",
    "    \"\"\"\n",
    "    From: https://github.com/clvoloshin/constrained_batch_policy_learning/blob/master/value_function.py\n",
    "    \"\"\"\n",
    "    def __init__(self):\n",
    "        '''\n",
    "        Utility DS to store the previous values and policies\n",
    "        '''\n",
    "        self.prev_values = []\n",
    "        \n",
    "    def append(self, value):\n",
    "        self.prev_values.append(value)\n",
    "\n",
    "    def avg(self, append_zero=False):\n",
    "        if append_zero:\n",
    "            return np.hstack([np.mean(self.prev_values, 0), np.array([0])])\n",
    "        else:\n",
    "            return np.mean(self.prev_values, 0)\n",
    "\n",
    "    def last(self, append_zero=False):\n",
    "        if append_zero:\n",
    "            return np.hstack([self.prev_values[-1], np.array([0])])\n",
    "        else:\n",
    "            return np.array(self.prev_values[-1])\n"
   ]
  },
  {
   "cell_type": "markdown",
   "metadata": {},
   "source": [
    "### Online Learning Algorithm : Exponentiated Gradient (EG)"
   ]
  },
  {
   "cell_type": "code",
   "execution_count": 9,
   "metadata": {},
   "outputs": [],
   "source": [
    "class ExponentiatedGradient(object):\n",
    "    \"\"\"\n",
    "    Extended from: https://github.com/clvoloshin/constrained_batch_policy_learning/blob/master/exponentiated_gradient.py\n",
    "\n",
    "    \"\"\"\n",
    "    def __init__(self, lambda_bound, number_of_constraints, eta=1., starting_lambda='uniform'):\n",
    "        '''\n",
    "        lambda_bound: hyper-param B in Alg 2\n",
    "        eta: hyper-param \\eta in Alg 2\n",
    "        numb_constraints = (# of objectives) + 1\n",
    "            additional 1 added for the phantom constraint for bounded norm (Sec 3, Le et al)\n",
    "        '''\n",
    "        self.eta = eta\n",
    "        self.lambda_bound = lambda_bound\n",
    "        self.number_of_constraints = number_of_constraints\n",
    "        if starting_lambda == 'uniform':\n",
    "            self.w_t = self.lambda_bound * np.ones(self.number_of_constraints) / self.number_of_constraints\n",
    "        else:\n",
    "            self.w_t = starting_lambda\n",
    "            self.lambda_bound = np.sum(starting_lambda)\n",
    "\n",
    "    def run(self, gradient):\n",
    "        \"\"\"\n",
    "        This function implements Line 16 of Alg 2\n",
    "\n",
    "        :param gradient: vector z_t\n",
    "        Z_t[i]: of the form (J(i) <= tau)\n",
    "\n",
    "        for maximizatio\n",
    "        :return:\n",
    "        \"\"\"\n",
    "        self.w_t = self.w_t/self.lambda_bound\n",
    "\n",
    "        unnormalized_wt = self.w_t*np.exp(self.eta*gradient) # positive since working  w/ costs.\n",
    "        self.w_t = self.lambda_bound*unnormalized_wt/sum(unnormalized_wt)\n",
    "        return self.w_t\n",
    "\n",
    "\n",
    "    def get(self):\n",
    "        return self.w_t"
   ]
  },
  {
   "cell_type": "markdown",
   "metadata": {},
   "source": [
    "## Section 1.2: Algorithm 2 of Le et al. (Batch Policy Learning with Constraints, ICML 2019)\n",
    "\n",
    "In this part we create the agent class that extends the Algorithm 2 from Le et al (2019) to our setting. We name the agent as Lagrangian agent because the Alg 2 is based around on solving the Lagrangian of all objectives. We use the code provided by the authors from https://github.com/clvoloshin/constrained_batch_policy_learning/ and build on it. "
   ]
  },
  {
   "cell_type": "code",
   "execution_count": 10,
   "metadata": {},
   "outputs": [],
   "source": [
    "## Create the Lagrangian agent here! \n",
    "\n",
    "class Lagrangian(Agent):\n",
    "    \"\"\"\n",
    "    Agent based on Le at al (2109)\n",
    "    \"\"\"\n",
    "    def __init__(self,\n",
    "                 coeff_list,\n",
    "                 n_iter,\n",
    "                 norm_bound,\n",
    "                 lr_eta, \n",
    "                 dual_gap, \n",
    "                ):\n",
    "        \"\"\"\n",
    "\n",
    "        :param termintation_condition: the function that decides when to stop the iterative procedure\n",
    "        :param coeff_list: the list of lambda_parameters to try search over\n",
    "        :param kwargs:\n",
    "        \"\"\"\n",
    "        self.coeff_list = coeff_list\n",
    "        self._name = \"Lagrangian\"\n",
    "        \n",
    "        # Hyper-params \n",
    "        self.n_iter = n_iter # hyper-param t in Line 2 of Alg 2\n",
    "        self.lambda_bound = norm_bound # hyper-param B input to Alg 2\n",
    "        self.lr_eta = lr_eta # hyper-param \\eta input to Alg 2\n",
    "        self.dual_gap = dual_gap # hyper-param \\omega in Line 13 in Alg 2\n",
    "        \n",
    "        \n",
    "        #init the containters\n",
    "        self.reset()\n",
    "    \n",
    "    def reset(self):\n",
    "        \"\"\"flushes all the values for a fresh run\"\"\"\n",
    "        # init the containers for storing value estimates\n",
    "        self.U_vals = ValueFunction()\n",
    "        self.R_vals = ValueFunction()\n",
    "        self.C_vals = ValueFunction()\n",
    "        \n",
    "        # perf in true env\n",
    "        self.true_R_vals = ValueFunction()\n",
    "        self.true_C_vals = ValueFunction()\n",
    "        \n",
    "        # plotting utils\n",
    "        self.safe_log = []\n",
    "        self.performance_log_R = []\n",
    "        self.performance_log_C = []\n",
    "        self.gap_log = []\n",
    "\n",
    "    def make_policy_iteration_operator(self, P, R, C, discount, \n",
    "                                       initial_distribution,\n",
    "                                       coeffs, \n",
    "                                       pi_baseline,\n",
    "                                       P_star,\n",
    "                                       plotting=True,\n",
    "                                      ):\n",
    "        \"\"\"\n",
    "        Algorithm 2 of Le et al (2019)\n",
    "        \n",
    "        Estimated mdp parameters\n",
    "        P: sat\n",
    "        R: sa\n",
    "        C: sa\n",
    "        P_star: sat\n",
    "        \n",
    "        P_star required for the true policy evaluation that \n",
    "\n",
    "        coeffs: coefficients (\\lambda_i) for each signal AND \\lamba_i >= 0\n",
    "        \"\"\"\n",
    "        # flush all the past info\n",
    "        self.reset() \n",
    "        \n",
    "        nstates = R.shape[0]\n",
    "        nactions = R.shape[1]\n",
    "\n",
    "        # these are the tau, the new constraints! \n",
    "        vR_pib_mhat = direct_policy_evaluation(P, - R, discount, pi_baseline) # -ve becasue we are now dealing with costs \n",
    "        pib_R_est_performance = sum(vR_pib_mhat * initial_distribution)\n",
    "        \n",
    "        \n",
    "        vC_pib_mhat = direct_policy_evaluation(P, C, discount, pi_baseline)\n",
    "        pib_C_est_performance = sum(vC_pib_mhat * initial_distribution)\n",
    "\n",
    "        # tau = [R,C,0] (#constraints + 1)\n",
    "        # the SPI constraints are on performance and the additional constraint is due to the bounded norm\n",
    "        tau = [pib_R_est_performance, pib_C_est_performance, 0.]\n",
    "        \n",
    "        # initialize the online algo\n",
    "        online_convex_algorithm = ExponentiatedGradient(self.lambda_bound, len(tau), self.lr_eta, starting_lambda='uniform')\n",
    "\n",
    "        # init lambda (Line 1, Alg 2)\n",
    "        lambdas = []\n",
    "        lambdas.append(online_convex_algorithm.get())\n",
    "        \n",
    "        \n",
    "        # Loggging/debugging\n",
    "        vR_pib_true = direct_policy_evaluation(P_star, R, discount, pi_baseline) # +ve here, because just evaluating\n",
    "        pib_R_true_performance = sum(vR_pib_true * initial_distribution)\n",
    "        vC_pib_true = direct_policy_evaluation(P_star, C, discount, pi_baseline)\n",
    "        pib_C_true_performance = sum(vC_pib_true * initial_distribution)\n",
    "        \n",
    "        # (Line 2, Alg 2)\n",
    "        for t in tqdm(range(self.n_iter), disable=1 - plotting):\n",
    "            # current_lambda \n",
    "            lamb = lambdas[-1]\n",
    "\n",
    "            # the user objective\n",
    "            U = -1. * (coeffs[0] * R - coeffs[1] * C) # negative because Le et al minimizing cost instead of maximize return\n",
    "            \n",
    "            # Do best response PI here and get new policy (Line 3)\n",
    "            best_response_cost_fn = U + (lamb[0] * - R) + (lamb[1] * C) \n",
    "            pi_t = cost_policy_iteration(P=P, R=best_response_cost_fn, discount=discount)\n",
    "            \n",
    "            # Do PE here (Line 4,5)\n",
    "            U_pi_t_hat, R_pi_t_hat, C_pi_t_hat = self.update_vals(pi_t, P, U, R, C, discount, initial_distribution, P_star)\n",
    "                        \n",
    "            # No need to compute pi_hat_t if we are already storing the values (Skip Line 6)\n",
    "            \n",
    "            # Take the averages here (Line 7)\n",
    "            U_avg = self.U_vals.avg() \n",
    "            R_avg = self.R_vals.avg()\n",
    "            C_avg = self.C_vals.avg()\n",
    "            \n",
    "            # Get the avg lambda (Line 8)\n",
    "            lamb_avg = np.mean(lambdas, 0)\n",
    "            \n",
    "            # Get the min over lagrangian (Lines 9, 10, 12)\n",
    "            L_min = self.min_of_lagrangian_over_policy(lamb_avg, tau, P, U, R, C, discount, initial_distribution)\n",
    "                        \n",
    "            # Compute the max over lagrangian (Line 11)\n",
    "            G_avg = [R_avg, C_avg, 0]\n",
    "            L_max = self.max_of_lagrangian_over_lambda(U_avg, G_avg, tau)\n",
    "            \n",
    "            # Check the duality gap here (Line 13)\n",
    "            if L_max - L_min <= self.dual_gap:\n",
    "                # Terminate the algorithm (Line 14)\n",
    "                # As we are not storing all the policies so far, we just compute the avg of the true performance of the policies so far \n",
    "#                 true_R_perf = self.true_R_vals.avg()\n",
    "#                 true_C_perf = self.true_C_vals.avg()                \n",
    "#                 return true_R_perf, true_C_perf\n",
    "                 break\n",
    "\n",
    "            \n",
    "            # Update the lambdas here (Line 15,16)\n",
    "            G_last = np.array([R_pi_t_hat, C_pi_t_hat, 0.])\n",
    "            gradient = G_last - tau\n",
    "            lambda_t = online_convex_algorithm.run(gradient)\n",
    "\n",
    "            # Append the updated lambda to the list\n",
    "            lambdas.append(lambda_t)\n",
    "            \n",
    "            \n",
    "            # Logging stuff \n",
    "            is_safe = (self.true_R_vals.avg() >= pib_R_true_performance) and (self.true_C_vals.avg() <= pib_C_true_performance)\n",
    "            self.safe_log.append(is_safe)\n",
    "            self.gap_log.append(L_max - L_min)\n",
    "            self.performance_log_R.append(self.true_R_vals.avg())\n",
    "            self.performance_log_C.append(self.true_C_vals.avg())\n",
    "            if t%50==0 and plotting:\n",
    "                print(f\"Iter: {t}, Gap: {L_max - L_min:.3f}, Safe: {is_safe}\") \n",
    "            \n",
    "        # plot for loggging purpose\n",
    "        if plotting:\n",
    "            self.plot(pib_R_true_performance, pib_C_true_performance)\n",
    "        \n",
    "        # return the final performance\n",
    "        true_R_perf = self.true_R_vals.avg()\n",
    "        true_C_perf = self.true_C_vals.avg()       \n",
    "        true_failure_rate = 1. - np.mean(self.safe_log)\n",
    "                \n",
    "        return true_R_perf, true_C_perf, true_failure_rate\n",
    "            \n",
    "        \n",
    "\n",
    "       \n",
    "    def update_vals(self, pi, P, U, R, C, discount, initial_distribution, P_star):\n",
    "        \"\"\"\n",
    "        do policy evalutation and update the values\n",
    "        \"\"\"\n",
    "        # Do PE here \n",
    "        # For user preferences based cost\n",
    "        v_U_pi = direct_policy_evaluation(P, U, discount, pi)\n",
    "        U_pi_hat = sum(v_U_pi * initial_distribution) \n",
    "            \n",
    "        # For R  \n",
    "        v_R_pi = direct_policy_evaluation(P, - R, discount, pi) # -ve because we are now working with costs\n",
    "        R_pi_hat = sum(v_R_pi * initial_distribution) \n",
    "        \n",
    "        # For C \n",
    "        v_C_pi = direct_policy_evaluation(P, C, discount, pi) \n",
    "        C_pi_hat = sum(v_C_pi * initial_distribution) \n",
    "        \n",
    "        # store them\n",
    "        self.U_vals.append(U_pi_hat)\n",
    "        self.R_vals.append(R_pi_hat)\n",
    "        self.C_vals.append(C_pi_hat)\n",
    "        \n",
    "        # now calculate the real performance in the true environment (only for R and C)\n",
    "        # For R\n",
    "        exact_v_R_pi = direct_policy_evaluation(P_star, R, discount, pi) \n",
    "        exact_R_pi = sum(exact_v_R_pi * initial_distribution) \n",
    "        # For C \n",
    "        exact_v_C_pi = direct_policy_evaluation(P_star, C, discount, pi) \n",
    "        exact_C_pi = sum(exact_v_C_pi * initial_distribution) \n",
    "        \n",
    "        self.true_R_vals.append(exact_R_pi)\n",
    "        self.true_C_vals.append(exact_C_pi)\n",
    "        \n",
    "        return U_pi_hat, R_pi_hat, C_pi_hat\n",
    "        \n",
    "    \n",
    "\n",
    "    def min_of_lagrangian_over_policy(self, lamb_avg, tau, P, U, R, C, discount, initial_distribution):\n",
    "        \"\"\"\n",
    "        Performs the steps in Line 9,10 and 12 of Alg 2\n",
    "        \"\"\"\n",
    "        # Learn the pi_tilde (Line 9)\n",
    "        avg_best_response_cost_fn = U + (lamb_avg[0] * - R) + (lamb_avg[1] * C) \n",
    "        pi_tilde = cost_policy_iteration(P=P, R=avg_best_response_cost_fn, discount=discount)\n",
    "            \n",
    "        # Eval the pi_tilde (Line 10)\n",
    "        # For L (user preferences based cost)\n",
    "        v_U_pi_tilde = direct_policy_evaluation(P, U, discount, pi_tilde)\n",
    "        U_pi_tilde_hat = sum(v_U_pi_tilde * initial_distribution) \n",
    "            \n",
    "        # For R  \n",
    "        v_R_pi_tilde = direct_policy_evaluation(P, - R, discount, pi_tilde) # -ve because we are now working with costs\n",
    "        R_pi_tilde_hat = sum(v_R_pi_tilde * initial_distribution) \n",
    "        \n",
    "        # For C \n",
    "        v_C_pi_tilde = direct_policy_evaluation(P, C, discount, pi_tilde) \n",
    "        C_pi_tilde_hat = sum(v_C_pi_tilde * initial_distribution) \n",
    "        \n",
    "        # Compute the L_min (Line 12)\n",
    "        G_pi_tilde = np.array([R_pi_tilde_hat, C_pi_tilde_hat, 0.])\n",
    "        L_min = U_pi_tilde_hat + np.dot(lamb_avg, (G_pi_tilde - tau))\n",
    "        \n",
    "        return L_min\n",
    "        \n",
    "       \n",
    "    def max_of_lagrangian_over_lambda(self, U_avg, G_avg, tau):\n",
    "        '''\n",
    "        Line 11 of Alg 2\n",
    "        \n",
    "        The maximum of C(pi) + lambda^T (G(pi) - eta) over lambda is\n",
    "        B*e_{k+1}, all the weight on the phantom index if G(pi) < eta for all constraints\n",
    "        B*e_k otherwise where B is the l1 bound on lambda and e_k is the standard\n",
    "        basis vector putting full mass on the constraint which is violated the most\n",
    "        '''\n",
    "        G_avg = np.array(G_avg)\n",
    "\n",
    "        ## Calculate the max violating constraint here\n",
    "        maximum = np.max(G_avg - tau)\n",
    "        index = np.argmax(G_avg - tau)\n",
    "        \n",
    "        if maximum > 0:\n",
    "            # if there is constraint that is being violated the most, put all weight on it\n",
    "            lamb = self.lambda_bound * np.eye(1, len(tau), index).reshape(-1)\n",
    "        else:\n",
    "            # put all weight on the phantom lambda\n",
    "            lamb = np.zeros(len(tau))\n",
    "            lamb[-1] = self.lambda_bound\n",
    "        \n",
    "        # compute the lagrangian wrt this lambda\n",
    "        L_max = U_avg + np.dot(lamb, (G_avg - tau))\n",
    "        \n",
    "        return L_max\n",
    "    \n",
    "    def plot(self, pib_R_true_performance, pib_C_true_performance):\n",
    "        \"\"\"\n",
    "        plot how the training looks for debugging\n",
    "        \"\"\"\n",
    "        # Create sub-plot for 4 plots\n",
    "        # Top safety, duality gap\n",
    "        # Bottom R_perf, C_perf (w/ baseline performance)\n",
    "        fig, axes = plt.subplots(2, 2, figsize=(10,10))\n",
    "        \n",
    "        # num of iters\n",
    "        x_range = np.arange(len(self.safe_log)) \n",
    "        \n",
    "        \n",
    "        safe_rate = np.zeros(len(self.safe_log))\n",
    "        for i in range(len(self.safe_log)):\n",
    "            safe_rate[i] = 1. - np.mean(self.safe_log[:i+1])\n",
    "        axes[0, 0].plot(x_range, safe_rate)\n",
    "        axes[0, 0].set_ylabel(\"Failure rate\")\n",
    "#         axes[0, 0].set_xlabel(\"iterations\")\n",
    "        axes[0, 0].set_title(\"Safety\")\n",
    "        \n",
    "        axes[0, 1].plot(x_range, self.gap_log)\n",
    "        axes[0, 1].set_ylabel(\"Dual gap\")\n",
    "        axes[0, 1].set_title(\"Duality gap\")\n",
    "        \n",
    "        axes[1, 0].plot(x_range, self.performance_log_R)\n",
    "        axes[1, 0].set_ylabel(\"Returns vs baseline (dotted black line)\")\n",
    "        axes[1, 0].axhline(y= pib_R_true_performance, label = \"baseline for 1st obj\", linestyle=\"--\", c='black')\n",
    "        axes[1, 0].set_title(\"Performance for 1st objective\")\n",
    "        axes[1, 0].legend()\n",
    "        \n",
    "        neg_costs = [-1. * i for i in self.performance_log_C]\n",
    "        axes[1, 1].plot(x_range, neg_costs)\n",
    "        axes[1, 1].set_ylabel(\"Returns vs baseline (dotted red line)\")\n",
    "        axes[1, 1].axhline(y= - pib_C_true_performance, label = \"baseline for 2nd obj\", linestyle=\"--\", c='red')\n",
    "        axes[1, 1].set_title(\"Performance for 2nd objective\")\n",
    "        axes[1, 1].legend()\n",
    "        \n",
    "        plt.show()\n",
    "        \n"
   ]
  },
  {
   "cell_type": "markdown",
   "metadata": {},
   "source": [
    "# Section 2: Sanity checks for the implementation\n",
    "\n",
    "\n",
    "## Section 2.1: Env and data generation\n",
    "In this section we will first create a CMDP environment and test if our implementation works for this environment. First, we will create a CMDP and calculate the optimal policy $(\\pi^{\\star})$. Then we will use that to create a baseline policy ($\\pi_{b}$) based on the ratio parameter $\\rho$. Finally, we generate the dataset ($\\mathcal{D}$) and estimate the MDP parameters $\\hat{P}$."
   ]
  },
  {
   "cell_type": "code",
   "execution_count": 11,
   "metadata": {},
   "outputs": [],
   "source": [
    "# env parameters \n",
    "ENV_NAME = 'large_grid-200'\n",
    "ENV_TRIES = 1000\n",
    "GAMMA = 0.99 \n",
    "COST_LIM = 2.0\n",
    "SEED = 0"
   ]
  },
  {
   "cell_type": "code",
   "execution_count": 12,
   "metadata": {},
   "outputs": [
    {
     "name": "stderr",
     "output_type": "stream",
     "text": [
      "/home/mila/s/satijah/tabular-bcrl/gridworld/core/utils.py:139: RuntimeWarning: invalid value encountered in true_divide\n",
      "  pi_opt = pi_opt / pi_opt.sum(axis=1)[:, None]\n"
     ]
    },
    {
     "name": "stdout",
     "output_type": "stream",
     "text": [
      "Couldn't find optimal, trying again.\n"
     ]
    },
    {
     "data": {
      "text/plain": [
       "2"
      ]
     },
     "execution_count": 12,
     "metadata": {},
     "output_type": "execute_result"
    }
   ],
   "source": [
    "from gridworld.envs.creation_utils import create_env\n",
    "from gridworld.core.utils import cmdp_dual_lp, generate_dataset, estimate_model\n",
    "\n",
    "np.random.seed(SEED)\n",
    "\n",
    "i_env = 0\n",
    "while i_env < ENV_TRIES:\n",
    "    try:\n",
    "        i_env += 1\n",
    "        env = create_env(ENV_NAME)\n",
    "        P_star, R_star, C_star, initial_distribution = env.compute_cmdp_matrices()\n",
    "\n",
    "        #  Compute \\pi_* using the dual formulation\n",
    "        v_opt, c_opt, pi_opt = cmdp_dual_lp(P_star, R_star, C_star, GAMMA, COST_LIM, initial_distribution)\n",
    "\n",
    "        # TODO: fix this hack later\n",
    "        if np.isnan(pi_opt).any():\n",
    "            # skip the current/wrong solution\n",
    "            # continue\n",
    "            raise Exception(\"Nans in the pi_opt\")\n",
    "\n",
    "        # if able to compute the solution successfully then break\n",
    "        break\n",
    "    except Exception:\n",
    "        # If there is no optimal policy, try with a new environment\n",
    "        print(f\"Couldn't find optimal, trying again.\")\n",
    "        \n",
    "i_env"
   ]
  },
  {
   "cell_type": "code",
   "execution_count": 13,
   "metadata": {},
   "outputs": [],
   "source": [
    "# the parameters for the quality of the baseline and the dataset\n",
    "\n",
    "NB_TRAJ = 50\n",
    "RATIO =  0.9\n",
    "COEFFS = (0.0, 1.0)"
   ]
  },
  {
   "cell_type": "code",
   "execution_count": 14,
   "metadata": {},
   "outputs": [
    {
     "name": "stderr",
     "output_type": "stream",
     "text": [
      "/home/mila/s/satijah/tabular-bcrl/gridworld/core/utils.py:198: RuntimeWarning: invalid value encountered in true_divide\n",
      "  est_P = count_P / np.sum(count_P, 2)[:, :, np.newaxis]\n"
     ]
    },
    {
     "data": {
      "text/plain": [
       "(100, 4, 100)"
      ]
     },
     "execution_count": 14,
     "metadata": {},
     "output_type": "execute_result"
    }
   ],
   "source": [
    "nstates = env.nstates\n",
    "nactions = env.nactions\n",
    "\n",
    "# create a uniform random policy for mixing with the ratio specified with\n",
    "pi_random = np.ones((nstates, nactions)) / nactions\n",
    "\n",
    "pi_baseline = RATIO * pi_opt + (1-RATIO) * pi_random\n",
    "\n",
    "# generate dataset\n",
    "trajectories, batch_transitions = generate_dataset(NB_TRAJ, env, pi_baseline)\n",
    "\n",
    "P_hat = estimate_model(batch_transitions, nstates, nactions)\n",
    "P_hat.shape"
   ]
  },
  {
   "cell_type": "markdown",
   "metadata": {},
   "source": [
    "## Section 2.2: Sanity checks\n",
    "\n",
    "In this section we validate that our implementation is correct. \n",
    "\n",
    "### Check-I: Duality-gap converges \n",
    "\n",
    "First we check if for a given user preference we observe the duality gap reducing and converging."
   ]
  },
  {
   "cell_type": "code",
   "execution_count": 15,
   "metadata": {},
   "outputs": [],
   "source": [
    "# hyper-parameters for the Lagrangian agent (Le et al, Alg 2)\n",
    "N_ITER = 250 \n",
    "NORM_BOUND = 10 \n",
    "LR_ETA = 0.01 \n",
    "DUAL_GAP = 0.01 "
   ]
  },
  {
   "cell_type": "code",
   "execution_count": 16,
   "metadata": {},
   "outputs": [
    {
     "name": "stderr",
     "output_type": "stream",
     "text": [
      " 12%|█▏        | 29/250 [00:00<00:01, 141.87it/s]"
     ]
    },
    {
     "name": "stdout",
     "output_type": "stream",
     "text": [
      "Iter: 0, Gap: 1039.113, Safe: True\n"
     ]
    },
    {
     "name": "stderr",
     "output_type": "stream",
     "text": [
      " 30%|██▉       | 74/250 [00:00<00:01, 145.61it/s]"
     ]
    },
    {
     "name": "stdout",
     "output_type": "stream",
     "text": [
      "Iter: 50, Gap: 24.555, Safe: True\n"
     ]
    },
    {
     "name": "stderr",
     "output_type": "stream",
     "text": [
      " 48%|████▊     | 119/250 [00:00<00:00, 147.62it/s]"
     ]
    },
    {
     "name": "stdout",
     "output_type": "stream",
     "text": [
      "Iter: 100, Gap: 13.576, Safe: True\n"
     ]
    },
    {
     "name": "stderr",
     "output_type": "stream",
     "text": [
      " 72%|███████▏  | 181/250 [00:01<00:00, 149.61it/s]"
     ]
    },
    {
     "name": "stdout",
     "output_type": "stream",
     "text": [
      "Iter: 150, Gap: 9.726, Safe: True\n"
     ]
    },
    {
     "name": "stderr",
     "output_type": "stream",
     "text": [
      " 92%|█████████▏| 229/250 [00:01<00:00, 150.41it/s]"
     ]
    },
    {
     "name": "stdout",
     "output_type": "stream",
     "text": [
      "Iter: 200, Gap: 7.695, Safe: True\n"
     ]
    },
    {
     "name": "stderr",
     "output_type": "stream",
     "text": [
      "100%|██████████| 250/250 [00:01<00:00, 148.41it/s]\n"
     ]
    },
    {
     "data": {
      "image/png": "[encoded data removed]",
      "text/plain": [
       "<Figure size 720x720 with 4 Axes>"
      ]
     },
     "metadata": {},
     "output_type": "display_data"
    },
    {
     "data": {
      "text/plain": [
       "(768.8114901560344, 1.4443252997591498, 0.0)"
      ]
     },
     "execution_count": 16,
     "metadata": {},
     "output_type": "execute_result"
    }
   ],
   "source": [
    "agent = Lagrangian(None, n_iter=N_ITER, norm_bound=NORM_BOUND, lr_eta=LR_ETA, dual_gap=DUAL_GAP)\n",
    "\n",
    "agent.make_policy_iteration_operator(P_hat, R_star, C_star, GAMMA, initial_distribution, (1.0,1.0), pi_baseline, P_star, plotting=True)"
   ]
  },
  {
   "cell_type": "markdown",
   "metadata": {},
   "source": [
    "## Check II: Algorithm works when access to large amount of data \n",
    "\n",
    "In this part, we will verify the scenario where the algorithm fails in the low data regime, but when we give it access to the true MDP parameters it is able to compute a solution successfully. This translates to the scenario where the agorithm fails when $\\hat{P}$ is given as input, but works fine when $P^{\\star}$ is given instead."
   ]
  },
  {
   "cell_type": "code",
   "execution_count": 17,
   "metadata": {},
   "outputs": [
    {
     "name": "stderr",
     "output_type": "stream",
     "text": [
      " 12%|█▏        | 29/250 [00:00<00:01, 141.90it/s]"
     ]
    },
    {
     "name": "stdout",
     "output_type": "stream",
     "text": [
      "Iter: 0, Gap: 1039.113, Safe: True\n"
     ]
    },
    {
     "name": "stderr",
     "output_type": "stream",
     "text": [
      " 28%|██▊       | 70/250 [00:00<00:01, 135.07it/s]"
     ]
    },
    {
     "name": "stdout",
     "output_type": "stream",
     "text": [
      "Iter: 50, Gap: 27.226, Safe: False\n"
     ]
    },
    {
     "name": "stderr",
     "output_type": "stream",
     "text": [
      " 50%|█████     | 126/250 [00:00<00:00, 133.14it/s]"
     ]
    },
    {
     "name": "stdout",
     "output_type": "stream",
     "text": [
      "Iter: 100, Gap: 15.603, Safe: False\n"
     ]
    },
    {
     "name": "stderr",
     "output_type": "stream",
     "text": [
      " 67%|██████▋   | 167/250 [00:01<00:00, 133.23it/s]"
     ]
    },
    {
     "name": "stdout",
     "output_type": "stream",
     "text": [
      "Iter: 150, Gap: 11.081, Safe: False\n"
     ]
    },
    {
     "name": "stderr",
     "output_type": "stream",
     "text": [
      " 89%|████████▉ | 223/250 [00:01<00:00, 136.38it/s]"
     ]
    },
    {
     "name": "stdout",
     "output_type": "stream",
     "text": [
      "Iter: 200, Gap: 8.559, Safe: False\n"
     ]
    },
    {
     "name": "stderr",
     "output_type": "stream",
     "text": [
      "100%|██████████| 250/250 [00:01<00:00, 134.67it/s]\n"
     ]
    },
    {
     "data": {
      "image/png": "[encoded data removed]",
      "text/plain": [
       "<Figure size 720x720 with 4 Axes>"
      ]
     },
     "metadata": {},
     "output_type": "display_data"
    },
    {
     "data": {
      "text/plain": [
       "(458.90364185417707, 0.005777301199036505, 0.948)"
      ]
     },
     "execution_count": 17,
     "metadata": {},
     "output_type": "execute_result"
    }
   ],
   "source": [
    "# we use P_hat here\n",
    "agent = Lagrangian(None, n_iter=N_ITER, norm_bound=NORM_BOUND, lr_eta=LR_ETA, dual_gap=DUAL_GAP)\n",
    "\n",
    "agent.make_policy_iteration_operator(P_hat, R_star, C_star, GAMMA, initial_distribution, COEFFS, pi_baseline, P_star, plotting=True)"
   ]
  },
  {
   "cell_type": "markdown",
   "metadata": {},
   "source": [
    "Now we use $P^{\\star}$ instead of $\\hat{P}$ but keep the rest of the parameters the same"
   ]
  },
  {
   "cell_type": "code",
   "execution_count": 18,
   "metadata": {},
   "outputs": [
    {
     "name": "stderr",
     "output_type": "stream",
     "text": [
      " 18%|█▊        | 46/250 [00:00<00:00, 231.82it/s]"
     ]
    },
    {
     "name": "stdout",
     "output_type": "stream",
     "text": [
      "Iter: 0, Gap: 96.881, Safe: False\n"
     ]
    },
    {
     "name": "stderr",
     "output_type": "stream",
     "text": [
      " 32%|███▏      | 81/250 [00:00<00:00, 194.10it/s]"
     ]
    },
    {
     "name": "stdout",
     "output_type": "stream",
     "text": [
      "Iter: 50, Gap: 15.807, Safe: True\n"
     ]
    },
    {
     "name": "stderr",
     "output_type": "stream",
     "text": [
      " 54%|█████▎    | 134/250 [00:00<00:00, 181.78it/s]"
     ]
    },
    {
     "name": "stdout",
     "output_type": "stream",
     "text": [
      "Iter: 100, Gap: 9.944, Safe: True\n"
     ]
    },
    {
     "name": "stderr",
     "output_type": "stream",
     "text": [
      " 68%|██████▊   | 170/250 [00:00<00:00, 179.09it/s]"
     ]
    },
    {
     "name": "stdout",
     "output_type": "stream",
     "text": [
      "Iter: 150, Gap: 7.147, Safe: True\n"
     ]
    },
    {
     "name": "stderr",
     "output_type": "stream",
     "text": [
      " 90%|████████▉ | 224/250 [00:01<00:00, 174.48it/s]"
     ]
    },
    {
     "name": "stdout",
     "output_type": "stream",
     "text": [
      "Iter: 200, Gap: 5.498, Safe: True\n"
     ]
    },
    {
     "name": "stderr",
     "output_type": "stream",
     "text": [
      "100%|██████████| 250/250 [00:01<00:00, 179.05it/s]\n"
     ]
    },
    {
     "data": {
      "image/png": "[encoded data removed]",
      "text/plain": [
       "<Figure size 720x720 with 4 Axes>"
      ]
     },
     "metadata": {},
     "output_type": "display_data"
    },
    {
     "data": {
      "text/plain": [
       "(774.2140666501658, 0.046781762088746945, 0.020000000000000018)"
      ]
     },
     "execution_count": 18,
     "metadata": {},
     "output_type": "execute_result"
    }
   ],
   "source": [
    "agent = Lagrangian(None, n_iter=N_ITER, norm_bound=NORM_BOUND, lr_eta=LR_ETA, dual_gap=DUAL_GAP)\n",
    "agent.make_policy_iteration_operator(P_star, R_star, C_star, GAMMA, initial_distribution, COEFFS, pi_baseline, P_star, plotting=True)"
   ]
  },
  {
   "cell_type": "markdown",
   "metadata": {},
   "source": [
    "# Section 3: High failure rate across all hyper-parameters considered\n",
    "\n",
    "Here we show that tuning the hyper-parameters can be particularly challenging with respect to this algorithm. For instance, here we show that none of hyper-parameters considered in a large range are able to satisfy safety requirements. "
   ]
  },
  {
   "cell_type": "code",
   "execution_count": 21,
   "metadata": {},
   "outputs": [
    {
     "name": "stderr",
     "output_type": "stream",
     "text": [
      "  0%|          | 0/4 [00:00<?, ?it/s]\n",
      "  0%|          | 0/7 [00:00<?, ?it/s]\u001b[A\n",
      " 14%|█▍        | 1/7 [00:01<00:10,  1.82s/it]\u001b[A"
     ]
    },
    {
     "name": "stdout",
     "output_type": "stream",
     "text": [
      "Norm:1\t Lr_eta:0.005\t Fail rate:0.896\n"
     ]
    },
    {
     "name": "stderr",
     "output_type": "stream",
     "text": [
      "\n",
      " 29%|██▊       | 2/7 [00:03<00:09,  1.81s/it]\u001b[A"
     ]
    },
    {
     "name": "stdout",
     "output_type": "stream",
     "text": [
      "Norm:1\t Lr_eta:0.01\t Fail rate:0.948\n"
     ]
    },
    {
     "name": "stderr",
     "output_type": "stream",
     "text": [
      "\n",
      " 43%|████▎     | 3/7 [00:05<00:07,  1.80s/it]\u001b[A"
     ]
    },
    {
     "name": "stdout",
     "output_type": "stream",
     "text": [
      "Norm:1\t Lr_eta:0.05\t Fail rate:0.988\n"
     ]
    },
    {
     "name": "stderr",
     "output_type": "stream",
     "text": [
      "\n",
      " 57%|█████▋    | 4/7 [00:07<00:05,  1.80s/it]\u001b[A"
     ]
    },
    {
     "name": "stdout",
     "output_type": "stream",
     "text": [
      "Norm:1\t Lr_eta:0.1\t Fail rate:0.992\n"
     ]
    },
    {
     "name": "stderr",
     "output_type": "stream",
     "text": [
      "\n",
      " 71%|███████▏  | 5/7 [00:08<00:03,  1.79s/it]\u001b[A"
     ]
    },
    {
     "name": "stdout",
     "output_type": "stream",
     "text": [
      "Norm:1\t Lr_eta:0.5\t Fail rate:0.996\n"
     ]
    },
    {
     "name": "stderr",
     "output_type": "stream",
     "text": [
      "\n",
      " 86%|████████▌ | 6/7 [00:10<00:01,  1.78s/it]\u001b[A"
     ]
    },
    {
     "name": "stdout",
     "output_type": "stream",
     "text": [
      "Norm:1\t Lr_eta:1.0\t Fail rate:0.996\n"
     ]
    },
    {
     "name": "stderr",
     "output_type": "stream",
     "text": [
      "<ipython-input-9-bf57594858b0>:34: RuntimeWarning: overflow encountered in exp\n",
      "  unnormalized_wt = self.w_t*np.exp(self.eta*gradient) # positive since working  w/ costs.\n",
      "<ipython-input-9-bf57594858b0>:34: RuntimeWarning: invalid value encountered in multiply\n",
      "  unnormalized_wt = self.w_t*np.exp(self.eta*gradient) # positive since working  w/ costs.\n",
      "\n",
      "100%|██████████| 7/7 [00:11<00:00,  1.41s/it]\u001b[A\n",
      " 25%|██▌       | 1/4 [00:11<00:33, 11.27s/it]\u001b[A\n",
      "  0%|          | 0/7 [00:00<?, ?it/s]\u001b[A"
     ]
    },
    {
     "name": "stdout",
     "output_type": "stream",
     "text": [
      "Norm:1\t Lr_eta:5.0\t Fail rate:0.996\n"
     ]
    },
    {
     "name": "stderr",
     "output_type": "stream",
     "text": [
      "\n",
      " 14%|█▍        | 1/7 [00:01<00:11,  1.87s/it]\u001b[A"
     ]
    },
    {
     "name": "stdout",
     "output_type": "stream",
     "text": [
      "Norm:10\t Lr_eta:0.005\t Fail rate:0.892\n"
     ]
    },
    {
     "name": "stderr",
     "output_type": "stream",
     "text": [
      "\n",
      " 29%|██▊       | 2/7 [00:03<00:09,  1.85s/it]\u001b[A"
     ]
    },
    {
     "name": "stdout",
     "output_type": "stream",
     "text": [
      "Norm:10\t Lr_eta:0.01\t Fail rate:0.948\n"
     ]
    },
    {
     "name": "stderr",
     "output_type": "stream",
     "text": [
      "\n",
      " 43%|████▎     | 3/7 [00:05<00:07,  1.85s/it]\u001b[A"
     ]
    },
    {
     "name": "stdout",
     "output_type": "stream",
     "text": [
      "Norm:10\t Lr_eta:0.05\t Fail rate:0.988\n"
     ]
    },
    {
     "name": "stderr",
     "output_type": "stream",
     "text": [
      "\n",
      " 57%|█████▋    | 4/7 [00:07<00:05,  1.81s/it]\u001b[A"
     ]
    },
    {
     "name": "stdout",
     "output_type": "stream",
     "text": [
      "Norm:10\t Lr_eta:0.1\t Fail rate:0.992\n"
     ]
    },
    {
     "name": "stderr",
     "output_type": "stream",
     "text": [
      "\n",
      " 71%|███████▏  | 5/7 [00:08<00:03,  1.79s/it]\u001b[A"
     ]
    },
    {
     "name": "stdout",
     "output_type": "stream",
     "text": [
      "Norm:10\t Lr_eta:0.5\t Fail rate:0.996\n"
     ]
    },
    {
     "name": "stderr",
     "output_type": "stream",
     "text": [
      "\n",
      " 86%|████████▌ | 6/7 [00:10<00:01,  1.77s/it]\u001b[A"
     ]
    },
    {
     "name": "stdout",
     "output_type": "stream",
     "text": [
      "Norm:10\t Lr_eta:1.0\t Fail rate:0.996\n"
     ]
    },
    {
     "name": "stderr",
     "output_type": "stream",
     "text": [
      "\n",
      "100%|██████████| 7/7 [00:11<00:00,  1.40s/it]\u001b[A\n",
      " 50%|█████     | 2/4 [00:22<00:22, 11.27s/it]\u001b[A\n",
      "  0%|          | 0/7 [00:00<?, ?it/s]\u001b[A"
     ]
    },
    {
     "name": "stdout",
     "output_type": "stream",
     "text": [
      "Norm:10\t Lr_eta:5.0\t Fail rate:0.996\n"
     ]
    },
    {
     "name": "stderr",
     "output_type": "stream",
     "text": [
      "\n",
      " 14%|█▍        | 1/7 [00:01<00:11,  1.86s/it]\u001b[A"
     ]
    },
    {
     "name": "stdout",
     "output_type": "stream",
     "text": [
      "Norm:50\t Lr_eta:0.005\t Fail rate:0.892\n"
     ]
    },
    {
     "name": "stderr",
     "output_type": "stream",
     "text": [
      "\n",
      " 29%|██▊       | 2/7 [00:03<00:09,  1.86s/it]\u001b[A"
     ]
    },
    {
     "name": "stdout",
     "output_type": "stream",
     "text": [
      "Norm:50\t Lr_eta:0.01\t Fail rate:0.944\n"
     ]
    },
    {
     "name": "stderr",
     "output_type": "stream",
     "text": [
      "\n",
      " 43%|████▎     | 3/7 [00:05<00:07,  1.86s/it]\u001b[A"
     ]
    },
    {
     "name": "stdout",
     "output_type": "stream",
     "text": [
      "Norm:50\t Lr_eta:0.05\t Fail rate:0.988\n"
     ]
    },
    {
     "name": "stderr",
     "output_type": "stream",
     "text": [
      "\n",
      " 57%|█████▋    | 4/7 [00:07<00:05,  1.83s/it]\u001b[A"
     ]
    },
    {
     "name": "stdout",
     "output_type": "stream",
     "text": [
      "Norm:50\t Lr_eta:0.1\t Fail rate:0.992\n"
     ]
    },
    {
     "name": "stderr",
     "output_type": "stream",
     "text": [
      "\n",
      " 71%|███████▏  | 5/7 [00:09<00:03,  1.79s/it]\u001b[A"
     ]
    },
    {
     "name": "stdout",
     "output_type": "stream",
     "text": [
      "Norm:50\t Lr_eta:0.5\t Fail rate:0.996\n"
     ]
    },
    {
     "name": "stderr",
     "output_type": "stream",
     "text": [
      "\n",
      " 86%|████████▌ | 6/7 [00:10<00:01,  1.76s/it]\u001b[A"
     ]
    },
    {
     "name": "stdout",
     "output_type": "stream",
     "text": [
      "Norm:50\t Lr_eta:1.0\t Fail rate:0.996\n"
     ]
    },
    {
     "name": "stderr",
     "output_type": "stream",
     "text": [
      "\n",
      "100%|██████████| 7/7 [00:11<00:00,  1.40s/it]\u001b[A\n",
      " 75%|███████▌  | 3/4 [00:33<00:11, 11.28s/it]\u001b[A\n",
      "  0%|          | 0/7 [00:00<?, ?it/s]\u001b[A"
     ]
    },
    {
     "name": "stdout",
     "output_type": "stream",
     "text": [
      "Norm:50\t Lr_eta:5.0\t Fail rate:0.996\n"
     ]
    },
    {
     "name": "stderr",
     "output_type": "stream",
     "text": [
      "\n",
      " 14%|█▍        | 1/7 [00:01<00:11,  1.87s/it]\u001b[A"
     ]
    },
    {
     "name": "stdout",
     "output_type": "stream",
     "text": [
      "Norm:100\t Lr_eta:0.005\t Fail rate:0.892\n"
     ]
    },
    {
     "name": "stderr",
     "output_type": "stream",
     "text": [
      "\n",
      " 29%|██▊       | 2/7 [00:03<00:09,  1.87s/it]\u001b[A"
     ]
    },
    {
     "name": "stdout",
     "output_type": "stream",
     "text": [
      "Norm:100\t Lr_eta:0.01\t Fail rate:0.944\n"
     ]
    },
    {
     "name": "stderr",
     "output_type": "stream",
     "text": [
      "\n",
      " 43%|████▎     | 3/7 [00:05<00:07,  1.86s/it]\u001b[A"
     ]
    },
    {
     "name": "stdout",
     "output_type": "stream",
     "text": [
      "Norm:100\t Lr_eta:0.05\t Fail rate:0.988\n"
     ]
    },
    {
     "name": "stderr",
     "output_type": "stream",
     "text": [
      "\n",
      " 57%|█████▋    | 4/7 [00:07<00:05,  1.83s/it]\u001b[A"
     ]
    },
    {
     "name": "stdout",
     "output_type": "stream",
     "text": [
      "Norm:100\t Lr_eta:0.1\t Fail rate:0.992\n"
     ]
    },
    {
     "name": "stderr",
     "output_type": "stream",
     "text": [
      "\n",
      " 71%|███████▏  | 5/7 [00:09<00:03,  1.79s/it]\u001b[A"
     ]
    },
    {
     "name": "stdout",
     "output_type": "stream",
     "text": [
      "Norm:100\t Lr_eta:0.5\t Fail rate:0.996\n"
     ]
    },
    {
     "name": "stderr",
     "output_type": "stream",
     "text": [
      "\n",
      " 86%|████████▌ | 6/7 [00:10<00:01,  1.76s/it]\u001b[A"
     ]
    },
    {
     "name": "stdout",
     "output_type": "stream",
     "text": [
      "Norm:100\t Lr_eta:1.0\t Fail rate:0.996\n"
     ]
    },
    {
     "name": "stderr",
     "output_type": "stream",
     "text": [
      "\n",
      "100%|██████████| 7/7 [00:11<00:00,  1.40s/it]\u001b[A\n",
      "100%|██████████| 4/4 [00:45<00:00, 11.28s/it]\u001b[A"
     ]
    },
    {
     "name": "stdout",
     "output_type": "stream",
     "text": [
      "Norm:100\t Lr_eta:5.0\t Fail rate:0.996\n"
     ]
    },
    {
     "name": "stderr",
     "output_type": "stream",
     "text": [
      "\n"
     ]
    }
   ],
   "source": [
    "N_ITER = 250 # also tried 100, 500\n",
    "DUAL_GAP = 0.01 # also tried 0.001\n",
    "\n",
    "NORM_BOUND_LIST = [1, 10, 50, 100]\n",
    "# LR_ETA_LIST = [0.01, 0.05, 0.1, 0.5, 1.0, 5.0]\n",
    "LR_ETA_LIST = [0.005, 0.01, 0.05, 0.1, 0.5, 1.0, 5.0]\n",
    "\n",
    "for norm_bound in tqdm(NORM_BOUND_LIST):\n",
    "    for lr_eta in tqdm(LR_ETA_LIST, leave=False):\n",
    "        h_agent = Lagrangian(None, n_iter=N_ITER, norm_bound=norm_bound, lr_eta=lr_eta, dual_gap=DUAL_GAP)\n",
    "        _,_,fail_rate = h_agent.make_policy_iteration_operator(P_hat, R_star, C_star, GAMMA, initial_distribution, COEFFS, pi_baseline, P_star, plotting=False)\n",
    "        print(f\"Norm:{norm_bound}\\t Lr_eta:{lr_eta}\\t Fail rate:{fail_rate}\")"
   ]
  },
  {
   "cell_type": "markdown",
   "metadata": {},
   "source": [
    "Note that in the above case the failure rate is high regardless of the hyper-parameter combination. This is expected as Le et al (2019) don't have any practical guarantees for their methods. In the low data setting, when the concentrability assumption is violated, we can observe that their method fails to have a low failre rate."
   ]
  },
  {
   "cell_type": "code",
   "execution_count": 20,
   "metadata": {},
   "outputs": [],
   "source": [
    "# %debug"
   ]
  }
 ],
 "metadata": {
  "kernelspec": {
   "display_name": "Python 3 (mimic)",
   "language": "python",
   "name": "mimic"
  },
  "language_info": {
   "codemirror_mode": {
    "name": "ipython",
    "version": 3
   },
   "file_extension": ".py",
   "mimetype": "text/x-python",
   "name": "python",
   "nbconvert_exporter": "python",
   "pygments_lexer": "ipython3",
   "version": "3.8.5"
  }
 },
 "nbformat": 4,
 "nbformat_minor": 4
}
